{
  "nbformat": 4,
  "nbformat_minor": 0,
  "metadata": {
    "colab": {
      "name": "Αντίγραφο Αντίγραφο datamining.ipynb",
      "provenance": [],
      "collapsed_sections": [],
      "include_colab_link": true
    },
    "kernelspec": {
      "display_name": "Python 3",
      "name": "python3"
    }
  },
  "cells": [
    {
      "cell_type": "markdown",
      "metadata": {
        "id": "view-in-github",
        "colab_type": "text"
      },
      "source": [
        "<a href=\"https://colab.research.google.com/github/MyrtooS/datamining/blob/main/%CE%91%CE%BD%CF%84%CE%AF%CE%B3%CF%81%CE%B1%CF%86%CE%BF_%CE%91%CE%BD%CF%84%CE%AF%CE%B3%CF%81%CE%B1%CF%86%CE%BF_datamining.ipynb\" target=\"_parent\"><img src=\"https://colab.research.google.com/assets/colab-badge.svg\" alt=\"Open In Colab\"/></a>"
      ]
    },
    {
      "cell_type": "code",
      "metadata": {
        "id": "L4lIkKCcL9L_"
      },
      "source": [
        "import numpy as np\n",
        "import pandas as pd\n",
        "import matplotlib.pyplot as plt\n",
        "from sklearn.preprocessing import LabelBinarizer\n",
        "from sklearn import datasets\n",
        "from sklearn import preprocessing\n",
        "from scipy.stats import pearsonr\n",
        "\n",
        "#from google.colab import files\n",
        "#uploaded = files.upload()"
      ],
      "execution_count": null,
      "outputs": []
    },
    {
      "cell_type": "code",
      "metadata": {
        "id": "tDXdxOj-pz8B"
      },
      "source": [
        "from google.colab import drive\n",
        "drive.mount('/content/drive')\n",
        "folder='/content/drive/My Drive/Data_Mining'\n",
        "!ls '/content/drive/My Drive/Data_Mining'"
      ],
      "execution_count": null,
      "outputs": []
    },
    {
      "cell_type": "code",
      "metadata": {
        "id": "642yUlK4rSHW"
      },
      "source": [
        "df = pd.read_csv(folder+'/listings_june.csv')\n",
        "df1 = pd.read_csv(folder+'/listings_july.csv')"
      ],
      "execution_count": null,
      "outputs": []
    },
    {
      "cell_type": "code",
      "metadata": {
        "id": "u03_1jS5UFbS"
      },
      "source": [
        "to_drop = ['host_name','host_id','name','id','neighbourhood_group','last_review']"
      ],
      "execution_count": null,
      "outputs": []
    },
    {
      "cell_type": "code",
      "metadata": {
        "id": "1wvXt94tW8zv"
      },
      "source": [
        "df.drop(to_drop, inplace=True, axis=1)\n"
      ],
      "execution_count": null,
      "outputs": []
    },
    {
      "cell_type": "code",
      "metadata": {
        "id": "JaWKZTGbdXhD"
      },
      "source": [
        "df1.drop(to_drop, inplace=True, axis=1)"
      ],
      "execution_count": null,
      "outputs": []
    },
    {
      "cell_type": "code",
      "metadata": {
        "id": "w1hHctEiD-ad"
      },
      "source": [
        "#converts categorical \"room_type\" to nominal values 0,1,2,3\n",
        "from sklearn.preprocessing import LabelEncoder\n",
        "gle = LabelEncoder()\n",
        "room_labels = gle.fit_transform(df['room_type'])\n",
        "room_mappings = {index: label for index, label in \n",
        "                  enumerate(gle.classes_)}\n",
        "room_mappings\n",
        "df['Room_Type_Label'] = room_labels\n"
      ],
      "execution_count": null,
      "outputs": []
    },
    {
      "cell_type": "code",
      "metadata": {
        "id": "2EjZlEbjdiCC"
      },
      "source": [
        "room_labels = gle.fit_transform(df1['room_type'])\n",
        "room_mappings = {index: label for index, label in \n",
        "                  enumerate(gle.classes_)}\n",
        "room_mappings\n",
        "df1['Room_Type_Label'] = room_labels"
      ],
      "execution_count": null,
      "outputs": []
    },
    {
      "cell_type": "code",
      "metadata": {
        "id": "iLXpjv1gFdlN"
      },
      "source": [
        "for col in df.columns: #how many % has empty values\n",
        "    pct_missing = np.mean(df[col].isnull())\n",
        "    print('{} - {}%'.format(col, round(pct_missing*100)))"
      ],
      "execution_count": null,
      "outputs": []
    },
    {
      "cell_type": "code",
      "metadata": {
        "id": "ON-mZQAwN2B1"
      },
      "source": [
        "for col in df_full_thes.columns: #how many % has empty values\n",
        "    pct_missing = np.mean(df_full_thes[col].isnull())\n",
        "    print('{} - {}%'.format(col, round(pct_missing*100)))"
      ],
      "execution_count": null,
      "outputs": []
    },
    {
      "cell_type": "code",
      "metadata": {
        "id": "bxPRtAVbY-Ty"
      },
      "source": [
        "mean_review = int(df['reviews_per_month'].mean())\n",
        "mean_review\n",
        "df['reviews_per_month'] = df['reviews_per_month'].fillna(mean_review)"
      ],
      "execution_count": null,
      "outputs": []
    },
    {
      "cell_type": "code",
      "metadata": {
        "id": "UeYWB5GCdr2F"
      },
      "source": [
        "df1['reviews_per_month'] = df1['reviews_per_month'].fillna(mean_review)"
      ],
      "execution_count": null,
      "outputs": []
    },
    {
      "cell_type": "code",
      "metadata": {
        "id": "gObSThYsQSWt"
      },
      "source": [
        "df['cost_per_stay'] = df['price'] * df['minimum_nights'] #extra value how much it costs to stay\n",
        "# df.to_csv('listings.csv') \n"
      ],
      "execution_count": null,
      "outputs": []
    },
    {
      "cell_type": "code",
      "metadata": {
        "id": "52VLW1AZdu_H"
      },
      "source": [
        "df1['cost_per_stay'] = df1['price'] * df1['minimum_nights'] #extra value how much it costs to stay\n",
        "# df1.to_csv('listings2.csv') "
      ],
      "execution_count": null,
      "outputs": []
    },
    {
      "cell_type": "code",
      "metadata": {
        "id": "i5ynIDdKN8DI"
      },
      "source": [
        "#one-hot encoding for room type\n",
        "# y= LabelBinarizer().fit_transform(df.room_type)\n",
        "# y = pd.DataFrame({'Entire home/apt': y[:, 0], 'Hotel room': y[0, 1], 'Private room': y[1, 2], 'Shared room': y[2,3]})\n",
        "# pd.concat([df, y], axis=1)"
      ],
      "execution_count": null,
      "outputs": []
    },
    {
      "cell_type": "code",
      "metadata": {
        "id": "E7fm8z9UeARe"
      },
      "source": [
        "y= LabelBinarizer().fit_transform(df1.room_type)\n",
        "y = pd.DataFrame({'Entire home/apt': y[:, 0], 'Hotel room': y[0, 1], 'Private room': y[1, 2], 'Shared room': y[2,3]})\n",
        "pd.concat([df1, y], axis=1)"
      ],
      "execution_count": null,
      "outputs": []
    },
    {
      "cell_type": "code",
      "metadata": {
        "id": "ktOkOHbsQ39_"
      },
      "source": [
        "fig, ax = plt.subplots(figsize=(16,8))\n",
        "ax.scatter(df['minimum_nights'], df['neighbourhood'])\n",
        "ax.set_xlabel('minimum nights')\n",
        "ax.set_ylabel('price')\n",
        "plt.show()"
      ],
      "execution_count": null,
      "outputs": []
    },
    {
      "cell_type": "code",
      "metadata": {
        "id": "YrrvguIHVrOK"
      },
      "source": [
        "df['minimum_nights'].mean()"
      ],
      "execution_count": null,
      "outputs": []
    },
    {
      "cell_type": "code",
      "metadata": {
        "id": "SGk9JC0d2dnY"
      },
      "source": [
        "df.describe()"
      ],
      "execution_count": null,
      "outputs": []
    },
    {
      "cell_type": "code",
      "metadata": {
        "id": "-cIHPNhv4qu8"
      },
      "source": [
        "#minimum nights has some outlier values so we removed values that were higher than 10\n",
        "#we used IQR method to find out which columns have the most outlier values \n",
        "Q1 = df.quantile(0.25)\n",
        "Q3 = df.quantile(0.75)\n",
        "IQR = Q3 - Q1\n",
        "print(IQR)\n",
        "df = df[df['minimum_nights'] <= 10]"
      ],
      "execution_count": null,
      "outputs": []
    },
    {
      "cell_type": "code",
      "metadata": {
        "id": "GifbQIpgeHBK"
      },
      "source": [
        "Q1 = df1.quantile(0.25)\n",
        "Q3 = df1.quantile(0.75)\n",
        "IQR = Q3 - Q1\n",
        "print(IQR)\n",
        "df1 = df1[df1['minimum_nights'] <= 10]"
      ],
      "execution_count": null,
      "outputs": []
    },
    {
      "cell_type": "code",
      "metadata": {
        "id": "5F998Y61_vbL"
      },
      "source": [
        "df1.corr(method ='pearson') "
      ],
      "execution_count": null,
      "outputs": []
    },
    {
      "cell_type": "code",
      "metadata": {
        "id": "TkEirT_q6dsI"
      },
      "source": [
        "df['location_price_category']=0"
      ],
      "execution_count": null,
      "outputs": []
    },
    {
      "cell_type": "code",
      "metadata": {
        "id": "txRFP6kGz-Xk"
      },
      "source": [
        "df['location_price_category'] = np.where(df['neighbourhood'] == 'ΑΜΠΕΛΟΚΗΠΟΙ', 4,df['location_price_category'])\n",
        "df['location_price_category'] = np.where(df['neighbourhood'] == 'ΕΜΠΟΡΙΚΟ ΤΡΙΓΩΝΟ-ΠΛΑΚΑ',4,df['location_price_category'])\n",
        "df['location_price_category'] = np.where(df['neighbourhood'] == 'ΚΕΡΑΜΕΙΚΟΣ', 6,df['location_price_category'])\n",
        "df['location_price_category'] = np.where(df['neighbourhood'] == 'ΑΓΙΟΣ ΝΙΚΟΛΑΟΣ',5,df['location_price_category'])\n",
        "df['location_price_category'] = np.where(df['neighbourhood'] == 'ΠΑΓΚΡΑΤΙ',4,df['location_price_category'])\n",
        "df['location_price_category'] = np.where(df['neighbourhood'] == 'ΠΛΑΤΕΙΑ ΑΤΤΙΚΗΣ', 5,df['location_price_category'])\n",
        "df['location_price_category'] = np.where(df['neighbourhood'] == 'ΣΤΑΔΙΟ', 3,df['location_price_category'])\n",
        "df['location_price_category'] = np.where(df['neighbourhood'] == 'ΑΓΙΟΣ ΚΩΝΣΤΑΝΤΙΝΟΣ-ΠΛΑΤΕΙΑ ΒΑΘΗΣ', 5,df['location_price_category'])\n",
        "df['location_price_category'] = np.where(df['neighbourhood'] == '1Ο ΝΕΚΡΟΤΑΦΕΙΟ', 4,df['location_price_category'])\n",
        "df['location_price_category'] = np.where(df['neighbourhood'] == 'ΜΟΥΣΕΙΟ-ΕΞΑΡΧΕΙΑ-ΝΕΑΠΟΛΗ', 3,df['location_price_category'])\n",
        "df['location_price_category'] = np.where(df['neighbourhood'] == 'ΑΚΑΔΗΜΙΑ ΠΛΑΤΩΝΟΣ', 7,df['location_price_category'])\n",
        "df['location_price_category'] = np.where(df['neighbourhood'] == 'ΚΟΥΚΑΚΙ-ΜΑΚΡΥΓΙΑΝΝΗ', 4,df['location_price_category'])\n",
        "df['location_price_category'] = np.where(df['neighbourhood'] == 'ΓΟΥΒΑ', 4,df['location_price_category'])\n",
        "df['location_price_category'] = np.where(df['neighbourhood'] == 'ΝΕΑ ΚΥΨΕΛΗ', 4,df['location_price_category'])\n",
        "df['location_price_category'] = np.where(df['neighbourhood'] == 'ΚΟΛΩΝΑΚΙ', 1,df['location_price_category'])\n",
        "df['location_price_category'] = np.where(df['neighbourhood'] == 'ΑΝΩ ΚΥΨΕΛΗ', 4,df['location_price_category'])\n",
        "df['location_price_category'] = np.where(df['neighbourhood'] == 'ΒΟΤΑΝΙΚΟΣ', 7,df['location_price_category'])\n",
        "df['location_price_category'] = np.where(df['neighbourhood'] == 'ΑΝΩ ΠΑΤΗΣΙΑ', 4,df['location_price_category'])\n",
        "df['location_price_category'] = np.where(df['neighbourhood'] == 'ΝΕΟΣ ΚΟΣΜΟΣ', 5,df['location_price_category'])\n",
        "df['location_price_category'] = np.where(df['neighbourhood'] == 'ΠΛΑΤΕΙΑ ΑΜΕΡΙΚΗΣ', 5,df['location_price_category'])\n",
        "df['location_price_category'] = np.where(df['neighbourhood'] == 'ΙΛΙΣΙΑ', 4,df['location_price_category'])\n",
        "df['location_price_category'] = np.where(df['neighbourhood'] == 'ΘΗΣΕΙΟ', 2,df['location_price_category'])\n",
        "df['location_price_category'] = np.where(df['neighbourhood'] == 'ΠΕΔΙΟ ΑΡΕΩΣ', 3,df['location_price_category'])\n",
        "df['location_price_category'] = np.where(df['neighbourhood'] == 'ΠΕΤΡΑΛΩΝΑ', 5,df['location_price_category'])\n",
        "df['location_price_category'] = np.where(df['neighbourhood'] == 'ΑΚΡΟΠΟΛΗ', 2,df['location_price_category'])\n",
        "df['location_price_category'] = np.where(df['neighbourhood'] == 'ΓΚΥΖΗ', 4,df['location_price_category'])\n",
        "df['location_price_category'] = np.where(df['neighbourhood'] == 'ΠΡΟΜΠΟΝΑ', 7,df['location_price_category'])\n",
        "df['location_price_category'] = np.where(df['neighbourhood'] == 'ΓΟΥΔΙ', 4,df['location_price_category'])\n",
        "df['location_price_category'] = np.where(df['neighbourhood'] == 'ΓΚΑΖΙ', 6,df['location_price_category'])\n",
        "df['location_price_category'] = np.where(df['neighbourhood'] == 'ΚΟΛΩΝΟΣ', 7,df['location_price_category'])\n",
        "df['location_price_category'] = np.where(df['neighbourhood'] == 'ΝΙΡΒΑΝΑ', 6,df['location_price_category'])\n",
        "df['location_price_category'] = np.where(df['neighbourhood'] == 'ΖΑΠΠΕΙΟ', 2,df['location_price_category'])\n",
        "df['location_price_category'] = np.where(df['neighbourhood'] == 'ΚΥΨΕΛΗ', 4,df['location_price_category'])\n",
        "df['location_price_category'] = np.where(df['neighbourhood'] == 'ΛΥΚΑΒΗΤΤΟΣ', 1,df['location_price_category'])\n",
        "df['location_price_category'] = np.where(df['neighbourhood'] == 'ΑΓΙΟΣ ΕΛΕΥΘΕΡΙΟΣ', 5,df['location_price_category'])\n",
        "df['location_price_category'] = np.where(df['neighbourhood'] == 'ΠΑΤΗΣΙΑ', 4,df['location_price_category'])\n",
        "df['location_price_category'] = np.where(df['neighbourhood'] == 'ΕΛΛΗΝΟΡΩΣΩΝ', 3,df['location_price_category'])\n",
        "df['location_price_category'] = np.where(df['neighbourhood'] == 'ΠΕΝΤΑΓΩΝΟ', 2,df['location_price_category'])\n",
        "df['location_price_category'] = np.where(df['neighbourhood'] == 'ΡΙΖΟΥΠΟΛΗ', 5,df['location_price_category'])\n",
        "df['location_price_category'] = np.where(df['neighbourhood'] == 'ΠΟΛΥΓΩΝΟ', 4,df['location_price_category'])\n",
        "df['location_price_category'] = np.where(df['neighbourhood'] == 'ΣΕΠΟΛΙΑ', 7,df['location_price_category'])\n",
        "df['location_price_category'] = np.where(df['neighbourhood'] == 'ΣΤΑΘΜΟΣ ΛΑΡΙΣΗΣ', 5,df['location_price_category'])\n",
        "df['location_price_category'] = np.where(df['neighbourhood'] == 'ΡΙΓΗΛΛΗ', 1,df['location_price_category'])\n",
        "df['location_price_category'] = np.where(df['neighbourhood'] == 'ΚΟΛΟΚΥΝΘΟΥ', 7,df['location_price_category'])\n",
        "df['location_price_category'] = np.where(df['neighbourhood'] == 'ΡΟΥΦ', 7,df['location_price_category'])"
      ],
      "execution_count": null,
      "outputs": []
    },
    {
      "cell_type": "code",
      "metadata": {
        "id": "NKxKw7bth_xc"
      },
      "source": [
        "df1['location_price_category']=0"
      ],
      "execution_count": null,
      "outputs": []
    },
    {
      "cell_type": "code",
      "metadata": {
        "id": "8YJIEeCUhwkV"
      },
      "source": [
        "df1['location_price_category'] = np.where(df1['neighbourhood'] == 'ΑΜΠΕΛΟΚΗΠΟΙ', 4,df1['location_price_category'])\n",
        "df1['location_price_category'] = np.where(df1['neighbourhood'] == 'ΕΜΠΟΡΙΚΟ ΤΡΙΓΩΝΟ-ΠΛΑΚΑ',4,df1['location_price_category'])\n",
        "df1['location_price_category'] = np.where(df1['neighbourhood'] == 'ΚΕΡΑΜΕΙΚΟΣ', 6,df1['location_price_category'])\n",
        "df1['location_price_category'] = np.where(df1['neighbourhood'] == 'ΑΓΙΟΣ ΝΙΚΟΛΑΟΣ',5,df1['location_price_category'])\n",
        "df1['location_price_category'] = np.where(df1['neighbourhood'] == 'ΠΑΓΚΡΑΤΙ',4,df1['location_price_category'])\n",
        "df1['location_price_category'] = np.where(df1['neighbourhood'] == 'ΠΛΑΤΕΙΑ ΑΤΤΙΚΗΣ', 5,df1['location_price_category'])\n",
        "df1['location_price_category'] = np.where(df1['neighbourhood'] == 'ΣΤΑΔΙΟ', 3,df1['location_price_category'])\n",
        "df1['location_price_category'] = np.where(df1['neighbourhood'] == 'ΑΓΙΟΣ ΚΩΝΣΤΑΝΤΙΝΟΣ-ΠΛΑΤΕΙΑ ΒΑΘΗΣ', 5,df1['location_price_category'])\n",
        "df1['location_price_category'] = np.where(df1['neighbourhood'] == '1Ο ΝΕΚΡΟΤΑΦΕΙΟ', 4,df1['location_price_category'])\n",
        "df1['location_price_category'] = np.where(df1['neighbourhood'] == 'ΜΟΥΣΕΙΟ-ΕΞΑΡΧΕΙΑ-ΝΕΑΠΟΛΗ', 3,df1['location_price_category'])\n",
        "df1['location_price_category'] = np.where(df1['neighbourhood'] == 'ΑΚΑΔΗΜΙΑ ΠΛΑΤΩΝΟΣ', 7,df1['location_price_category'])\n",
        "df1['location_price_category'] = np.where(df1['neighbourhood'] == 'ΚΟΥΚΑΚΙ-ΜΑΚΡΥΓΙΑΝΝΗ', 4,df1['location_price_category'])\n",
        "df1['location_price_category'] = np.where(df1['neighbourhood'] == 'ΓΟΥΒΑ', 4,df1['location_price_category'])\n",
        "df1['location_price_category'] = np.where(df1['neighbourhood'] == 'ΝΕΑ ΚΥΨΕΛΗ', 4,df1['location_price_category'])\n",
        "df1['location_price_category'] = np.where(df1['neighbourhood'] == 'ΚΟΛΩΝΑΚΙ', 1,df1['location_price_category'])\n",
        "df1['location_price_category'] = np.where(df1['neighbourhood'] == 'ΑΝΩ ΚΥΨΕΛΗ', 4,df1['location_price_category'])\n",
        "df1['location_price_category'] = np.where(df1['neighbourhood'] == 'ΒΟΤΑΝΙΚΟΣ', 7,df1['location_price_category'])\n",
        "df1['location_price_category'] = np.where(df1['neighbourhood'] == 'ΑΝΩ ΠΑΤΗΣΙΑ', 4,df1['location_price_category'])\n",
        "df1['location_price_category'] = np.where(df1['neighbourhood'] == 'ΝΕΟΣ ΚΟΣΜΟΣ', 5,df1['location_price_category'])\n",
        "df1['location_price_category'] = np.where(df1['neighbourhood'] == 'ΠΛΑΤΕΙΑ ΑΜΕΡΙΚΗΣ', 5,df1['location_price_category'])\n",
        "df1['location_price_category'] = np.where(df1['neighbourhood'] == 'ΙΛΙΣΙΑ', 4,df1['location_price_category'])\n",
        "df1['location_price_category'] = np.where(df1['neighbourhood'] == 'ΘΗΣΕΙΟ', 2,df1['location_price_category'])\n",
        "df1['location_price_category'] = np.where(df1['neighbourhood'] == 'ΠΕΔΙΟ ΑΡΕΩΣ', 3,df1['location_price_category'])\n",
        "df1['location_price_category'] = np.where(df1['neighbourhood'] == 'ΠΕΤΡΑΛΩΝΑ', 5,df1['location_price_category'])\n",
        "df1['location_price_category'] = np.where(df1['neighbourhood'] == 'ΑΚΡΟΠΟΛΗ', 2,df1['location_price_category'])\n",
        "df1['location_price_category'] = np.where(df1['neighbourhood'] == 'ΓΚΥΖΗ', 4,df1['location_price_category'])\n",
        "df1['location_price_category'] = np.where(df1['neighbourhood'] == 'ΠΡΟΜΠΟΝΑ', 7,df1['location_price_category'])\n",
        "df1['location_price_category'] = np.where(df1['neighbourhood'] == 'ΓΟΥΔΙ', 4,df1['location_price_category'])\n",
        "df1['location_price_category'] = np.where(df1['neighbourhood'] == 'ΓΚΑΖΙ', 6,df1['location_price_category'])\n",
        "df1['location_price_category'] = np.where(df1['neighbourhood'] == 'ΚΟΛΩΝΟΣ', 7,df1['location_price_category'])\n",
        "df1['location_price_category'] = np.where(df1['neighbourhood'] == 'ΝΙΡΒΑΝΑ', 6,df1['location_price_category'])\n",
        "df1['location_price_category'] = np.where(df1['neighbourhood'] == 'ΖΑΠΠΕΙΟ', 2,df1['location_price_category'])\n",
        "df1['location_price_category'] = np.where(df1['neighbourhood'] == 'ΚΥΨΕΛΗ', 4,df1['location_price_category'])\n",
        "df1['location_price_category'] = np.where(df1['neighbourhood'] == 'ΛΥΚΑΒΗΤΤΟΣ', 1,df1['location_price_category'])\n",
        "df1['location_price_category'] = np.where(df1['neighbourhood'] == 'ΑΓΙΟΣ ΕΛΕΥΘΕΡΙΟΣ', 5,df1['location_price_category'])\n",
        "df1['location_price_category'] = np.where(df1['neighbourhood'] == 'ΠΑΤΗΣΙΑ', 4,df1['location_price_category'])\n",
        "df1['location_price_category'] = np.where(df1['neighbourhood'] == 'ΕΛΛΗΝΟΡΩΣΩΝ', 3,df1['location_price_category'])\n",
        "df1['location_price_category'] = np.where(df1['neighbourhood'] == 'ΠΕΝΤΑΓΩΝΟ', 2,df1['location_price_category'])\n",
        "df1['location_price_category'] = np.where(df1['neighbourhood'] == 'ΡΙΖΟΥΠΟΛΗ', 5,df1['location_price_category'])\n",
        "df1['location_price_category'] = np.where(df1['neighbourhood'] == 'ΠΟΛΥΓΩΝΟ', 4,df1['location_price_category'])\n",
        "df1['location_price_category'] = np.where(df1['neighbourhood'] == 'ΣΕΠΟΛΙΑ', 7,df1['location_price_category'])\n",
        "df1['location_price_category'] = np.where(df1['neighbourhood'] == 'ΣΤΑΘΜΟΣ ΛΑΡΙΣΗΣ', 5,df1['location_price_category'])\n",
        "df1['location_price_category'] = np.where(df1['neighbourhood'] == 'ΡΙΓΗΛΛΗ', 1,df1['location_price_category'])\n",
        "df1['location_price_category'] = np.where(df1['neighbourhood'] == 'ΚΟΛΟΚΥΝΘΟΥ', 7,df1['location_price_category'])\n",
        "df1['location_price_category'] = np.where(df1['neighbourhood'] == 'ΡΟΥΦ', 7,df1['location_price_category'])"
      ],
      "execution_count": null,
      "outputs": []
    },
    {
      "cell_type": "code",
      "metadata": {
        "id": "uoH_reOS6jE2"
      },
      "source": [
        "df.corr(method ='pearson') "
      ],
      "execution_count": null,
      "outputs": []
    },
    {
      "cell_type": "code",
      "metadata": {
        "id": "rwZ6dV8Hbg2R"
      },
      "source": [
        "df1"
      ],
      "execution_count": null,
      "outputs": []
    },
    {
      "cell_type": "code",
      "metadata": {
        "id": "ozUSO-VycAqy"
      },
      "source": [
        "from sklearn.model_selection import train_test_split\n",
        "\n",
        "x = df[[\"number_of_reviews\",\"reviews_per_month\",\"calculated_host_listings_count\",\"availability_365\",\"Room_Type_Label\",\"cost_per_stay\",\"location_price_category\",\n",
        "        \"latitude\",\"longitude\"]]\n",
        "y = df[[\"price\"]]\n",
        "x_train, x_test, y_train, y_test = train_test_split(x, y, train_size=0.9, random_state=None)"
      ],
      "execution_count": null,
      "outputs": []
    },
    {
      "cell_type": "code",
      "metadata": {
        "id": "xgsH4VrnoSKE"
      },
      "source": [
        "#linear regression model for july data\n",
        "from sklearn.linear_model import LinearRegression\n",
        "from sklearn.metrics import r2_score\n",
        "from sklearn.metrics import mean_squared_error\n",
        "\n",
        "linear_reg_model = LinearRegression().fit(x_train, y_train)\n",
        "y_pred = linear_reg_model.predict(x_test)  \n",
        "\n",
        "print(\"intercept: \" ,linear_reg_model.intercept_)\n",
        "print(\"coefficceiance :\", linear_reg_model.coef_)\n",
        "\n",
        "print(\"r2_score: \",r2_score(y_test, y_pred))\n",
        "print(\"mean_squared_error: \" ,mean_squared_error(y_test,y_pred))\n",
        "# print(y_test)\n",
        "# print(y_pred)"
      ],
      "execution_count": null,
      "outputs": []
    },
    {
      "cell_type": "code",
      "metadata": {
        "id": "flubKBUiCMN7"
      },
      "source": [
        "#decision tree regression for july data\n",
        "from sklearn.tree import DecisionTreeRegressor\n",
        "\n",
        "d_tree_reg_model = DecisionTreeRegressor()\n",
        "d_tree_reg_model.fit(x_train,y_train)\n",
        "y_pred_tree = d_tree_reg_model.predict(x_test)\n",
        "print(y_test)\n",
        "print(y_pred_tree)\n",
        "\n",
        "print(\"mean squared error: \",mean_squared_error(y_test,y_pred_tree))\n",
        "print(\"r2_score:\" ,r2_score(y_test,y_pred_tree))\n"
      ],
      "execution_count": null,
      "outputs": []
    },
    {
      "cell_type": "code",
      "metadata": {
        "id": "VvdPl3uLsJaR"
      },
      "source": [
        "#random forest regression for july data\n",
        "from sklearn.ensemble import RandomForestRegressor\n",
        "\n",
        "random_forest_reg_model = RandomForestRegressor(n_estimators=500, oob_score=True, random_state=0)\n",
        "random_forest_reg_model.fit(x_train, y_train)\n",
        "y_pred_rf = random_forest_reg_model.predict(x_test)\n",
        "print(y_pred_rf)\n",
        "print(y_test)\n",
        "print(\"mean squared error: \",mean_squared_error(y_test,y_pred_rf))\n",
        "print(\"r2_score:\" ,r2_score(y_test,y_pred_rf))"
      ],
      "execution_count": null,
      "outputs": []
    },
    {
      "cell_type": "code",
      "metadata": {
        "id": "HvOS5qQhuZNy"
      },
      "source": [
        "#regression with svr for july data\n",
        "from sklearn.svm import SVR\n",
        "svr_model = SVR()\n",
        "svr_model.fit(x_train,y_train)\n",
        "y_pred_svr = svr_model.predict(x_test)\n",
        "print(y_pred_svr)\n",
        "print(y_test)\n",
        "\n",
        "print(\"mean squared error: \",mean_squared_error(y_test,y_pred_svr))\n",
        "print(\"r2_score:\" ,r2_score(y_test,y_pred_svr))"
      ],
      "execution_count": null,
      "outputs": []
    },
    {
      "cell_type": "code",
      "metadata": {
        "id": "kS-Ss0KdGUDt"
      },
      "source": [
        "df['target_price_group'] = 0\n",
        "df['target_price_group'] = np.where((df['price'] > 0) & (df['price'] <= 50), 50, df['target_price_group'])\n",
        "df['target_price_group'] = np.where((df['price'] > 50) & (df['price'] <= 101), 100, df['target_price_group'])\n",
        "df['target_price_group'] = np.where((df['price'] > 101) & (df['price'] <= 201), 200, df['target_price_group'])\n",
        "df['target_price_group'] = np.where((df['price'] > 200) & (df['price'] <= 500), 500, df['target_price_group'])"
      ],
      "execution_count": null,
      "outputs": []
    },
    {
      "cell_type": "code",
      "metadata": {
        "id": "D_UqKXdxc9r7"
      },
      "source": [
        "x_class = df[[\"number_of_reviews\",\"reviews_per_month\",\"calculated_host_listings_count\",\"availability_365\",\"Room_Type_Label\",\"cost_per_stay\",\"location_price_category\",\n",
        "        \"latitude\",\"longitude\"]]\n",
        "y_class = df[[\"target_price_group\"]]\n",
        "x_train_class, x_test_class, y_train_class, y_test_class = train_test_split(x_class, y_class, train_size=0.9, random_state=None, stratify=y_class)"
      ],
      "execution_count": null,
      "outputs": []
    },
    {
      "cell_type": "code",
      "metadata": {
        "id": "stNgnQpLcfQO"
      },
      "source": [
        "#decision trees classifier\n",
        "from sklearn.tree import DecisionTreeClassifier\n",
        "dec_tree_clas = DecisionTreeClassifier(criterion='entropy',random_state=0) \n",
        "dec_tree_clas.fit(x_train_class,y_train_class)\n",
        "y_pred_dec_tree_clas = dec_tree_clas.predict(x_test_class)\n",
        "\n",
        "from sklearn.metrics import classification_report, confusion_matrix, accuracy_score\n",
        "print(confusion_matrix(y_test_class, y_pred_dec_tree_clas))\n",
        "print(classification_report(y_test_class, y_pred_dec_tree_clas))\n",
        "print(accuracy_score(y_test_class, y_pred_dec_tree_clas))"
      ],
      "execution_count": null,
      "outputs": []
    },
    {
      "cell_type": "code",
      "metadata": {
        "id": "GYN2smgwj-n-"
      },
      "source": [
        "#random forest classification\n",
        "from sklearn.ensemble import RandomForestClassifier\n",
        "\n",
        "# Create the model with 100 trees\n",
        "random_forest_class_model = RandomForestClassifier(n_estimators=100, \n",
        "                               bootstrap = True,\n",
        "                               max_features = 'sqrt')\n",
        "# Fit on training data\n",
        "random_forest_class_model.fit(x_train_class, y_train_class)\n",
        "y_pred_rf_clas = random_forest_class_model.predict(x_test_class)\n",
        "\n",
        "print(confusion_matrix(y_test_class, y_pred_rf_clas))\n",
        "print(classification_report(y_test_class, y_pred_rf_clas))\n",
        "print(accuracy_score(y_test_class, y_pred_rf_clas))\n"
      ],
      "execution_count": null,
      "outputs": []
    },
    {
      "cell_type": "code",
      "metadata": {
        "id": "KEQLF9kimNqJ"
      },
      "source": [
        "from sklearn.svm import SVC\n",
        "SupportVectorClassModel = SVC()\n",
        "SupportVectorClassModel.fit(x_train_class,y_train_class)\n",
        "y_pred_sv_clas = SupportVectorClassModel.predict(x_test_class)\n",
        "\n",
        "print(confusion_matrix(y_test_class, y_pred_sv_clas))\n",
        "print(classification_report(y_test_class, y_pred_sv_clas))\n",
        "print(accuracy_score(y_test_class, y_pred_sv_clas))\n",
        "\n",
        "\n"
      ],
      "execution_count": null,
      "outputs": []
    },
    {
      "cell_type": "code",
      "metadata": {
        "id": "Q4yPhEz2xJei"
      },
      "source": [
        "#knn classification\n",
        "from sklearn.preprocessing import StandardScaler\n",
        "scaler = StandardScaler()\n",
        "scaler.fit(x_train_class)\n",
        "\n",
        "x_train_scaled = scaler.transform(x_train_class)\n",
        "x_test_scaled = scaler.transform(x_test_class)\n",
        "\n",
        "from sklearn.neighbors import KNeighborsClassifier\n",
        "classifier = KNeighborsClassifier(n_neighbors=5)\n",
        "classifier.fit(x_train_scaled, y_train_class)\n",
        "y_pred_knn = classifier.predict(x_test_scaled)\n",
        "\n",
        "from sklearn.metrics import classification_report, confusion_matrix\n",
        "print(confusion_matrix(y_test_class, y_pred_knn))\n",
        "print(classification_report(y_test_class, y_pred_knn))\n",
        "print(accuracy_score(y_test_class, y_pred_knn))\n",
        "\n",
        "\n",
        "# k_values = np.arange(1, 16)\n",
        "# cross_validation_fold = 4\n",
        "# accuracies = []\n",
        "# for k in k_values:\n",
        "#     # instantiate kNN with given neighbor size k\n",
        "#     knn = KNeighborsClassifier(n_neighbors=k)\n",
        "#     # run cross validation for a given kNN setup\n",
        "#     # I have setup n_jobs=-1 to use all cpus in my env.\n",
        "#     scores = cross_val_score(knn, x_train_scaled, y_train_class, cv=cross_validation_fold, scoring='accuracy', n_jobs=-1)\n",
        "#     accuracies.append(scores.mean())\n",
        "# print(accuracies)"
      ],
      "execution_count": null,
      "outputs": []
    },
    {
      "cell_type": "code",
      "metadata": {
        "id": "_UXQFdhq7se5"
      },
      "source": [
        "import seaborn as sns\n",
        "sns.countplot(y_pred_knn)"
      ],
      "execution_count": null,
      "outputs": []
    },
    {
      "cell_type": "code",
      "metadata": {
        "id": "vgs4g0Qf9t3T"
      },
      "source": [
        "X = df[[\"number_of_reviews\",\"reviews_per_month\",\"calculated_host_listings_count\",\"availability_365\",\"Room_Type_Label\",\"cost_per_stay\",\"location_price_category\",\n",
        "        \"latitude\",\"longitude\"]]\n",
        "Y = df[[\"price\"]]\n",
        "X_train, X_test, Y_train, Y_test = train_test_split(X, Y, train_size=0.9, random_state=None)"
      ],
      "execution_count": null,
      "outputs": []
    },
    {
      "cell_type": "code",
      "metadata": {
        "id": "zaimX3R2_CO7"
      },
      "source": [
        "#linear regression model for july data\n",
        "from sklearn.linear_model import LinearRegression\n",
        "from sklearn.metrics import r2_score\n",
        "from sklearn.metrics import mean_squared_error\n",
        "\n",
        "Linear_reg_model = LinearRegression().fit(X_train, Y_train)\n",
        "Y_pred = Linear_reg_model.predict(X_test)  \n",
        "\n",
        "print(\"intercept: \" ,Linear_reg_model.intercept_)\n",
        "print(\"coefficceiance :\", Linear_reg_model.coef_)\n",
        "\n",
        "print(\"r2_score: \",r2_score(Y_test, Y_pred))\n",
        "print(\"mean_squared_error: \" ,mean_squared_error(Y_test,Y_pred))\n",
        "# print(y_test)\n",
        "# print(y_pred)"
      ],
      "execution_count": null,
      "outputs": []
    },
    {
      "cell_type": "code",
      "metadata": {
        "id": "rYciyNKA_RUk"
      },
      "source": [
        "#decision tree regression for july data\n",
        "from sklearn.tree import DecisionTreeRegressor\n",
        "\n",
        "D_tree_reg_model = DecisionTreeRegressor()\n",
        "D_tree_reg_model.fit(X_train,Y_train)\n",
        "Y_pred_tree = D_tree_reg_model.predict(X_test)\n",
        "print(Y_test)\n",
        "print(Y_pred_tree)\n",
        "\n",
        "print(\"mean squared error: \",mean_squared_error(Y_test,Y_pred_tree))\n",
        "print(\"r2_score:\" ,r2_score(Y_test,Y_pred_tree))\n"
      ],
      "execution_count": null,
      "outputs": []
    },
    {
      "cell_type": "code",
      "metadata": {
        "id": "Ruy-Ddl__j-U"
      },
      "source": [
        "#random forest regression for july data\n",
        "from sklearn.ensemble import RandomForestRegressor\n",
        "\n",
        "Random_forest_reg_model = RandomForestRegressor(n_estimators=500, oob_score=True, random_state=0)\n",
        "Random_forest_reg_model.fit(X_train, Y_train)\n",
        "Y_pred_rf = Random_forest_reg_model.predict(X_test)\n",
        "print(Y_pred_rf)\n",
        "print(Y_test)\n",
        "print(\"mean squared error: \",mean_squared_error(Y_test,Y_pred_rf))\n",
        "print(\"r2_score:\" ,r2_score(Y_test,Y_pred_rf))"
      ],
      "execution_count": null,
      "outputs": []
    },
    {
      "cell_type": "code",
      "metadata": {
        "id": "RX6OBcjP_5_t"
      },
      "source": [
        "#regression with svr for july data\n",
        "from sklearn.svm import SVR\n",
        "svr_model = SVR()\n",
        "svr_model.fit(X_train,Y_train)\n",
        "Y_pred_svr = svr_model.predict(X_test)\n",
        "print(Y_pred_svr)\n",
        "print(Y_test)\n",
        "\n",
        "print(\"mean squared error: \",mean_squared_error(Y_test,Y_pred_svr))\n",
        "print(\"r2_score:\" ,r2_score(Y_test,Y_pred_svr))\n"
      ],
      "execution_count": null,
      "outputs": []
    },
    {
      "cell_type": "code",
      "metadata": {
        "id": "9pCEzzquANHB"
      },
      "source": [
        "df1['target_price_group'] = 0\n",
        "df1['target_price_group'] = np.where((df1['price'] > 0) & (df1['price'] <= 50), 50, df1['target_price_group'])\n",
        "df1['target_price_group'] = np.where((df1['price'] > 50) & (df1['price'] <= 101), 100, df1['target_price_group'])\n",
        "df1['target_price_group'] = np.where((df1['price'] > 101) & (df1['price'] <= 201), 200, df1['target_price_group'])\n",
        "df1['target_price_group'] = np.where((df1['price'] > 200) & (df1['price'] <= 500), 500, df1['target_price_group'])"
      ],
      "execution_count": null,
      "outputs": []
    },
    {
      "cell_type": "code",
      "metadata": {
        "id": "F38keb4hAdSY"
      },
      "source": [
        "X_class = df1[[\"number_of_reviews\",\"reviews_per_month\",\"calculated_host_listings_count\",\"availability_365\",\"Room_Type_Label\",\"cost_per_stay\",\"location_price_category\",\n",
        "        \"latitude\",\"longitude\"]]\n",
        "Y_class = df1[[\"target_price_group\"]]\n",
        "X_train_class, X_test_class, Y_train_class, Y_test_class = train_test_split(X_class, Y_class, train_size=0.9, random_state=None, stratify=Y_class)"
      ],
      "execution_count": null,
      "outputs": []
    },
    {
      "cell_type": "code",
      "metadata": {
        "id": "dck2uNPSAsbI"
      },
      "source": [
        "#decision trees classifier\n",
        "from sklearn.tree import DecisionTreeClassifier\n",
        "Dec_tree_clas = DecisionTreeClassifier(criterion='entropy',random_state=0) \n",
        "Dec_tree_clas.fit(X_train_class,Y_train_class)\n",
        "Y_pred_dec_tree_clas = Dec_tree_clas.predict(X_test_class)\n",
        "\n",
        "from sklearn.metrics import classification_report, confusion_matrix, accuracy_score\n",
        "print(confusion_matrix(Y_test_class, Y_pred_dec_tree_clas))\n",
        "print(classification_report(Y_test_class, Y_pred_dec_tree_clas))\n",
        "print(accuracy_score(Y_test_class, Y_pred_dec_tree_clas))"
      ],
      "execution_count": null,
      "outputs": []
    },
    {
      "cell_type": "code",
      "metadata": {
        "id": "wmk_xNFMBYti"
      },
      "source": [
        "#random forest classification\n",
        "from sklearn.ensemble import RandomForestClassifier\n",
        "\n",
        "# Create the model with 100 trees\n",
        "Random_forest_class_model = RandomForestClassifier(n_estimators=100, \n",
        "                               bootstrap = True,\n",
        "                               max_features = 'sqrt')\n",
        "# Fit on training data\n",
        "Random_forest_class_model.fit(X_train_class, Y_train_class)\n",
        "Y_pred_rf_clas = Random_forest_class_model.predict(X_test_class)\n",
        "\n",
        "print(confusion_matrix(Y_test_class, Y_pred_rf_clas))\n",
        "print(classification_report(Y_test_class, Y_pred_rf_clas))\n",
        "print(accuracy_score(Y_test_class, Y_pred_rf_clas))"
      ],
      "execution_count": null,
      "outputs": []
    },
    {
      "cell_type": "code",
      "metadata": {
        "id": "haD6FW1gBwtO"
      },
      "source": [
        "\n",
        "from sklearn.svm import SVC\n",
        "SupportVectorClassModel_July = SVC()\n",
        "SupportVectorClassModel_July.fit(X_train_class,Y_train_class)\n",
        "Y_pred_sv_clas = SupportVectorClassModel.predict(X_test_class)\n",
        "\n",
        "print(confusion_matrix(Y_test_class, Y_pred_sv_clas))\n",
        "print(classification_report(Y_test_class, Y_pred_sv_clas))\n",
        "print(accuracy_score(Y_test_class, Y_pred_sv_clas))\n",
        "\n"
      ],
      "execution_count": null,
      "outputs": []
    },
    {
      "cell_type": "code",
      "metadata": {
        "id": "LfF4em6UB669"
      },
      "source": [
        "#knn classification\n",
        "from sklearn.preprocessing import StandardScaler\n",
        "scaler = StandardScaler()\n",
        "scaler.fit(X_train_class)\n",
        "\n",
        "X_train_scaled = scaler.transform(X_train_class)\n",
        "X_test_scaled = scaler.transform(X_test_class)\n",
        "\n",
        "from sklearn.neighbors import KNeighborsClassifier\n",
        "classifier = KNeighborsClassifier(n_neighbors=5)\n",
        "classifier.fit(X_train_scaled, Y_train_class)\n",
        "Y_pred_knn = classifier.predict(X_test_scaled)\n",
        "\n",
        "from sklearn.metrics import classification_report, confusion_matrix\n",
        "print(confusion_matrix(Y_test_class, Y_pred_knn))\n",
        "print(classification_report(Y_test_class, Y_pred_knn))\n",
        "print(accuracy_score(Y_test_class, Y_pred_knn))"
      ],
      "execution_count": null,
      "outputs": []
    },
    {
      "cell_type": "code",
      "metadata": {
        "id": "tSQugXodIGDG"
      },
      "source": [
        "df_full_athens = pd.DataFrame(df)\n",
        "df_full_athens.append(df1)"
      ],
      "execution_count": null,
      "outputs": []
    },
    {
      "cell_type": "code",
      "metadata": {
        "id": "apPH1CR1NF-8"
      },
      "source": [
        "df_full_athens"
      ],
      "execution_count": null,
      "outputs": []
    },
    {
      "cell_type": "code",
      "metadata": {
        "id": "d3TN88UzIUN1"
      },
      "source": [
        "from google.colab import drive\n",
        "drive.mount('/content/drive')\n",
        "folder='/content/drive/My Drive/Data_Mining'\n",
        "!ls '/content/drive/My Drive/Data_Mining'\n"
      ],
      "execution_count": null,
      "outputs": []
    },
    {
      "cell_type": "code",
      "metadata": {
        "id": "ND0N7OWqJWta"
      },
      "source": [
        "df_thes_june = pd.read_csv(folder+'/listings_thes_june.csv')\n",
        "df_thes_july = pd.read_csv(folder+'/listings_thes_july.csv')"
      ],
      "execution_count": null,
      "outputs": []
    },
    {
      "cell_type": "code",
      "metadata": {
        "id": "WEX0Ssd3JfCq"
      },
      "source": [
        "df_full_thes = pd.DataFrame(df_thes_june)\n",
        "df_full_thes.append(df_thes_july)"
      ],
      "execution_count": null,
      "outputs": []
    },
    {
      "cell_type": "code",
      "metadata": {
        "id": "i2ZBcxBPNjMU"
      },
      "source": [
        "to_drop = ['host_name','host_id','name','id','neighbourhood_group','last_review']\n",
        "df_full_thes.drop(to_drop, inplace=True, axis=1)\n",
        "\n",
        "mean_review_thes = int(df_full_thes['reviews_per_month'].mean())\n",
        "df_full_thes['reviews_per_month'] = df_full_thes['reviews_per_month'].fillna(mean_review)\n",
        "df_full_thes['cost_per_stay'] = df_full_thes['price'] * df_full_thes['minimum_nights']\n",
        "\n",
        "y = LabelBinarizer().fit_transform(df_full_thes.room_type)\n",
        "y = pd.DataFrame({'Entire home/apt': y[:, 0], 'Hotel room': y[0, 1], 'Private room': y[1, 2], 'Shared room': y[2,3]})\n",
        "pd.concat([df_full_thes, y], axis=1)\n",
        "\n",
        "df_full_thes = df_full_thes[df_full_thes['minimum_nights'] <= 10]"
      ],
      "execution_count": 109,
      "outputs": []
    },
    {
      "cell_type": "code",
      "metadata": {
        "id": "sfeg_jD_ObLS"
      },
      "source": [
        "df_full_thes['location_price_category']=0"
      ],
      "execution_count": null,
      "outputs": []
    },
    {
      "cell_type": "code",
      "metadata": {
        "id": "0CkHxfPXO864"
      },
      "source": [
        "df_full_thes['location_price_category'] = np.where(df_full_thes['neighbourhood'] == 'Thessaloniki', 0,df_full_thes['location_price_category'])\n",
        "df_full_thes['location_price_category'] = np.where(df_full_thes['neighbourhood'] == 'Kalamaria',3,df_full_thes['location_price_category'])\n",
        "df_full_thes['location_price_category'] = np.where(df_full_thes['neighbourhood'] == 'Pilea – Choriatis', 1,df_full_thes['location_price_category'])\n",
        "df_full_thes['location_price_category'] = np.where(df_full_thes['neighbourhood'] == 'Pavlou Mela',0,df_full_thes['location_price_category'])\n",
        "df_full_thes['location_price_category'] = np.where(df_full_thes['neighbourhood'] == 'Kordelio – Evosmos',4,df_full_thes['location_price_category'])\n",
        "df_full_thes['location_price_category'] = np.where(df_full_thes['neighbourhood'] == 'Neapolis – Sykeon', 2,df_full_thes['location_price_category'])\n",
        "df_full_thes['location_price_category'] = np.where(df_full_thes['neighbourhood'] == 'Ampelokipon – Menemeni', 4,df_full_thes['location_price_category'])\n"
      ],
      "execution_count": null,
      "outputs": []
    }
  ]
}