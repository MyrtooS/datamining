{
  "nbformat": 4,
  "nbformat_minor": 0,
  "metadata": {
    "colab": {
      "name": "Αντίγραφο datamining.ipynb",
      "provenance": [],
      "collapsed_sections": [],
      "include_colab_link": true
    },
    "kernelspec": {
      "name": "python3",
      "display_name": "Python 3"
    }
  },
  "cells": [
    {
      "cell_type": "markdown",
      "metadata": {
        "id": "view-in-github",
        "colab_type": "text"
      },
      "source": [
        "<a href=\"https://colab.research.google.com/github/MyrtooS/datamining/blob/main/%CE%91%CE%BD%CF%84%CE%AF%CE%B3%CF%81%CE%B1%CF%86%CE%BF_datamining.ipynb\" target=\"_parent\"><img src=\"https://colab.research.google.com/assets/colab-badge.svg\" alt=\"Open In Colab\"/></a>"
      ]
    },
    {
      "cell_type": "code",
      "metadata": {
        "id": "L4lIkKCcL9L_"
      },
      "source": [
        "import numpy as np\n",
        "import pandas as pd\n",
        "import matplotlib.pyplot as plt\n",
        "from sklearn.preprocessing import LabelBinarizer\n",
        "from sklearn import datasets\n",
        "from sklearn import preprocessing\n",
        "from scipy.stats import pearsonr\n",
        "\n",
        "#from google.colab import files\n",
        "#uploaded = files.upload()"
      ],
      "execution_count": 1,
      "outputs": []
    },
    {
      "cell_type": "code",
      "metadata": {
        "id": "tDXdxOj-pz8B",
        "colab": {
          "base_uri": "https://localhost:8080/"
        },
        "outputId": "f2139e2d-6701-4cba-e19e-94ac1ee8ac81"
      },
      "source": [
        "from google.colab import drive\n",
        "drive.mount('/content/drive')\n",
        "folder='/content/drive/My Drive/Data_Mining'\n",
        "!ls '/content/drive/My Drive/Data_Mining'"
      ],
      "execution_count": 2,
      "outputs": [
        {
          "output_type": "stream",
          "text": [
            "Mounted at /content/drive\n",
            " datamining.ipynb\t     listings_july.csv\n",
            "'listings (1).gsheet'\t     listings_july.gsheet\n",
            "'listings (2).gsheet'\t     listings_june.csv\n",
            "'listings_july (1).gsheet'  'Untitled spreadsheet.gsheet'\n"
          ],
          "name": "stdout"
        }
      ]
    },
    {
      "cell_type": "code",
      "metadata": {
        "id": "642yUlK4rSHW"
      },
      "source": [
        "df = pd.read_csv(folder+'/listings_june.csv')\n",
        "df1 = pd.read_csv(folder+'/listings_july.csv')"
      ],
      "execution_count": 3,
      "outputs": []
    },
    {
      "cell_type": "code",
      "metadata": {
        "id": "u03_1jS5UFbS"
      },
      "source": [
        "to_drop = ['host_name','host_id','name','id','neighbourhood_group','last_review']"
      ],
      "execution_count": 4,
      "outputs": []
    },
    {
      "cell_type": "code",
      "metadata": {
        "id": "1wvXt94tW8zv"
      },
      "source": [
        "df.drop(to_drop, inplace=True, axis=1)\n"
      ],
      "execution_count": 5,
      "outputs": []
    },
    {
      "cell_type": "code",
      "metadata": {
        "id": "JaWKZTGbdXhD"
      },
      "source": [
        "df1.drop(to_drop, inplace=True, axis=1)"
      ],
      "execution_count": 6,
      "outputs": []
    },
    {
      "cell_type": "code",
      "metadata": {
        "id": "w1hHctEiD-ad"
      },
      "source": [
        "#converts categorical \"room_type\" to nominal values 0,1,2,3\n",
        "from sklearn.preprocessing import LabelEncoder\n",
        "gle = LabelEncoder()\n",
        "room_labels = gle.fit_transform(df['room_type'])\n",
        "room_mappings = {index: label for index, label in \n",
        "                  enumerate(gle.classes_)}\n",
        "room_mappings\n",
        "df['Room_Type_Label'] = room_labels\n"
      ],
      "execution_count": 7,
      "outputs": []
    },
    {
      "cell_type": "code",
      "metadata": {
        "id": "2EjZlEbjdiCC"
      },
      "source": [
        "room_labels = gle.fit_transform(df1['room_type'])\n",
        "room_mappings = {index: label for index, label in \n",
        "                  enumerate(gle.classes_)}\n",
        "room_mappings\n",
        "df1['Room_Type_Label'] = room_labels"
      ],
      "execution_count": 8,
      "outputs": []
    },
    {
      "cell_type": "code",
      "metadata": {
        "id": "iLXpjv1gFdlN",
        "colab": {
          "base_uri": "https://localhost:8080/"
        },
        "outputId": "b1f69037-e4c4-4ee6-c986-a1ca78d6201a"
      },
      "source": [
        "for col in df.columns: #how many % has empty values\n",
        "    pct_missing = np.mean(df[col].isnull())\n",
        "    print('{} - {}%'.format(col, round(pct_missing*100)))"
      ],
      "execution_count": 9,
      "outputs": [
        {
          "output_type": "stream",
          "text": [
            "neighbourhood - 0%\n",
            "latitude - 0%\n",
            "longitude - 0%\n",
            "room_type - 0%\n",
            "price - 0%\n",
            "minimum_nights - 0%\n",
            "number_of_reviews - 0%\n",
            "reviews_per_month - 24%\n",
            "calculated_host_listings_count - 0%\n",
            "availability_365 - 0%\n",
            "Room_Type_Label - 0%\n"
          ],
          "name": "stdout"
        }
      ]
    },
    {
      "cell_type": "code",
      "metadata": {
        "id": "bxPRtAVbY-Ty"
      },
      "source": [
        "mean_review = int(df['reviews_per_month'].mean())\n",
        "mean_review\n",
        "df['reviews_per_month'] = df['reviews_per_month'].fillna(mean_review)"
      ],
      "execution_count": 10,
      "outputs": []
    },
    {
      "cell_type": "code",
      "metadata": {
        "id": "UeYWB5GCdr2F"
      },
      "source": [
        "df1['reviews_per_month'] = df1['reviews_per_month'].fillna(mean_review)"
      ],
      "execution_count": 11,
      "outputs": []
    },
    {
      "cell_type": "code",
      "metadata": {
        "id": "gObSThYsQSWt"
      },
      "source": [
        "df['cost_per_stay'] = df['price'] * df['minimum_nights'] #extra value how much it costs to stay\n",
        "# df.to_csv('listings.csv') \n"
      ],
      "execution_count": 12,
      "outputs": []
    },
    {
      "cell_type": "code",
      "metadata": {
        "id": "52VLW1AZdu_H"
      },
      "source": [
        "df1['cost_per_stay'] = df1['price'] * df1['minimum_nights'] #extra value how much it costs to stay\n",
        "# df1.to_csv('listings2.csv') "
      ],
      "execution_count": 13,
      "outputs": []
    },
    {
      "cell_type": "code",
      "metadata": {
        "id": "i5ynIDdKN8DI"
      },
      "source": [
        "#one-hot encoding for room type\n",
        "# y= LabelBinarizer().fit_transform(df.room_type)\n",
        "# y = pd.DataFrame({'Entire home/apt': y[:, 0], 'Hotel room': y[0, 1], 'Private room': y[1, 2], 'Shared room': y[2,3]})\n",
        "# pd.concat([df, y], axis=1)"
      ],
      "execution_count": 14,
      "outputs": []
    },
    {
      "cell_type": "code",
      "metadata": {
        "id": "E7fm8z9UeARe"
      },
      "source": [
        "y= LabelBinarizer().fit_transform(df1.room_type)\n",
        "y = pd.DataFrame({'Entire home/apt': y[:, 0], 'Hotel room': y[0, 1], 'Private room': y[1, 2], 'Shared room': y[2,3]})\n",
        "pd.concat([df1, y], axis=1)"
      ],
      "execution_count": null,
      "outputs": []
    },
    {
      "cell_type": "code",
      "metadata": {
        "id": "ktOkOHbsQ39_"
      },
      "source": [
        "fig, ax = plt.subplots(figsize=(16,8))\n",
        "ax.scatter(df['minimum_nights'], df['neighbourhood'])\n",
        "ax.set_xlabel('minimum nights')\n",
        "ax.set_ylabel('price')\n",
        "plt.show()"
      ],
      "execution_count": null,
      "outputs": []
    },
    {
      "cell_type": "code",
      "metadata": {
        "id": "YrrvguIHVrOK",
        "colab": {
          "base_uri": "https://localhost:8080/"
        },
        "outputId": "4995aa0b-3fda-4f0d-f4e4-c0642ee5d455"
      },
      "source": [
        "df['minimum_nights'].mean()"
      ],
      "execution_count": 17,
      "outputs": [
        {
          "output_type": "execute_result",
          "data": {
            "text/plain": [
              "4.255082199045431"
            ]
          },
          "metadata": {
            "tags": []
          },
          "execution_count": 17
        }
      ]
    },
    {
      "cell_type": "code",
      "metadata": {
        "id": "SGk9JC0d2dnY"
      },
      "source": [
        "df.describe()"
      ],
      "execution_count": null,
      "outputs": []
    },
    {
      "cell_type": "code",
      "metadata": {
        "id": "-cIHPNhv4qu8",
        "colab": {
          "base_uri": "https://localhost:8080/"
        },
        "outputId": "05f3eae0-1383-45fb-fe9f-4fab7e8ed586"
      },
      "source": [
        "#minimum nights has some outlier values so we removed values that were higher than 10\n",
        "#we used IQR method to find out which columns have the most outlier values \n",
        "Q1 = df.quantile(0.25)\n",
        "Q3 = df.quantile(0.75)\n",
        "IQR = Q3 - Q1\n",
        "print(IQR)\n",
        "df = df[df['minimum_nights'] <= 10]"
      ],
      "execution_count": 19,
      "outputs": [
        {
          "output_type": "stream",
          "text": [
            "latitude                            0.019678\n",
            "longitude                           0.014590\n",
            "price                              37.000000\n",
            "minimum_nights                      1.000000\n",
            "number_of_reviews                  41.000000\n",
            "reviews_per_month                   1.380000\n",
            "calculated_host_listings_count      6.000000\n",
            "availability_365                  236.750000\n",
            "Room_Type_Label                     0.000000\n",
            "cost_per_stay                      88.000000\n",
            "dtype: float64\n"
          ],
          "name": "stdout"
        }
      ]
    },
    {
      "cell_type": "code",
      "metadata": {
        "id": "GifbQIpgeHBK",
        "colab": {
          "base_uri": "https://localhost:8080/"
        },
        "outputId": "bbefc821-8dd5-4cee-a094-723f1f7cd0b7"
      },
      "source": [
        "Q1 = df1.quantile(0.25)\n",
        "Q3 = df1.quantile(0.75)\n",
        "IQR = Q3 - Q1\n",
        "print(IQR)\n",
        "df1 = df1[df1['minimum_nights'] <= 10]"
      ],
      "execution_count": 20,
      "outputs": [
        {
          "output_type": "stream",
          "text": [
            "latitude                            0.019678\n",
            "longitude                           0.014465\n",
            "price                              38.000000\n",
            "minimum_nights                      1.000000\n",
            "number_of_reviews                  41.000000\n",
            "reviews_per_month                   1.310000\n",
            "calculated_host_listings_count      6.000000\n",
            "availability_365                  223.000000\n",
            "Room_Type_Label                     0.000000\n",
            "cost_per_stay                      88.000000\n",
            "dtype: float64\n"
          ],
          "name": "stdout"
        }
      ]
    },
    {
      "cell_type": "code",
      "metadata": {
        "id": "5F998Y61_vbL"
      },
      "source": [
        "df1.corr(method ='pearson') "
      ],
      "execution_count": null,
      "outputs": []
    },
    {
      "cell_type": "code",
      "metadata": {
        "id": "TkEirT_q6dsI"
      },
      "source": [
        "df['location_price_category']=0"
      ],
      "execution_count": 22,
      "outputs": []
    },
    {
      "cell_type": "code",
      "metadata": {
        "id": "txRFP6kGz-Xk"
      },
      "source": [
        "df['location_price_category'] = np.where(df['neighbourhood'] == 'ΑΜΠΕΛΟΚΗΠΟΙ', 4,df['location_price_category'])\n",
        "df['location_price_category'] = np.where(df['neighbourhood'] == 'ΕΜΠΟΡΙΚΟ ΤΡΙΓΩΝΟ-ΠΛΑΚΑ',4,df['location_price_category'])\n",
        "df['location_price_category'] = np.where(df['neighbourhood'] == 'ΚΕΡΑΜΕΙΚΟΣ', 6,df['location_price_category'])\n",
        "df['location_price_category'] = np.where(df['neighbourhood'] == 'ΑΓΙΟΣ ΝΙΚΟΛΑΟΣ',5,df['location_price_category'])\n",
        "df['location_price_category'] = np.where(df['neighbourhood'] == 'ΠΑΓΚΡΑΤΙ',4,df['location_price_category'])\n",
        "df['location_price_category'] = np.where(df['neighbourhood'] == 'ΠΛΑΤΕΙΑ ΑΤΤΙΚΗΣ', 5,df['location_price_category'])\n",
        "df['location_price_category'] = np.where(df['neighbourhood'] == 'ΣΤΑΔΙΟ', 3,df['location_price_category'])\n",
        "df['location_price_category'] = np.where(df['neighbourhood'] == 'ΑΓΙΟΣ ΚΩΝΣΤΑΝΤΙΝΟΣ-ΠΛΑΤΕΙΑ ΒΑΘΗΣ', 5,df['location_price_category'])\n",
        "df['location_price_category'] = np.where(df['neighbourhood'] == '1Ο ΝΕΚΡΟΤΑΦΕΙΟ', 4,df['location_price_category'])\n",
        "df['location_price_category'] = np.where(df['neighbourhood'] == 'ΜΟΥΣΕΙΟ-ΕΞΑΡΧΕΙΑ-ΝΕΑΠΟΛΗ', 3,df['location_price_category'])\n",
        "df['location_price_category'] = np.where(df['neighbourhood'] == 'ΑΚΑΔΗΜΙΑ ΠΛΑΤΩΝΟΣ', 7,df['location_price_category'])\n",
        "df['location_price_category'] = np.where(df['neighbourhood'] == 'ΚΟΥΚΑΚΙ-ΜΑΚΡΥΓΙΑΝΝΗ', 4,df['location_price_category'])\n",
        "df['location_price_category'] = np.where(df['neighbourhood'] == 'ΓΟΥΒΑ', 4,df['location_price_category'])\n",
        "df['location_price_category'] = np.where(df['neighbourhood'] == 'ΝΕΑ ΚΥΨΕΛΗ', 4,df['location_price_category'])\n",
        "df['location_price_category'] = np.where(df['neighbourhood'] == 'ΚΟΛΩΝΑΚΙ', 1,df['location_price_category'])\n",
        "df['location_price_category'] = np.where(df['neighbourhood'] == 'ΑΝΩ ΚΥΨΕΛΗ', 4,df['location_price_category'])\n",
        "df['location_price_category'] = np.where(df['neighbourhood'] == 'ΒΟΤΑΝΙΚΟΣ', 7,df['location_price_category'])\n",
        "df['location_price_category'] = np.where(df['neighbourhood'] == 'ΑΝΩ ΠΑΤΗΣΙΑ', 4,df['location_price_category'])\n",
        "df['location_price_category'] = np.where(df['neighbourhood'] == 'ΝΕΟΣ ΚΟΣΜΟΣ', 5,df['location_price_category'])\n",
        "df['location_price_category'] = np.where(df['neighbourhood'] == 'ΠΛΑΤΕΙΑ ΑΜΕΡΙΚΗΣ', 5,df['location_price_category'])\n",
        "df['location_price_category'] = np.where(df['neighbourhood'] == 'ΙΛΙΣΙΑ', 4,df['location_price_category'])\n",
        "df['location_price_category'] = np.where(df['neighbourhood'] == 'ΘΗΣΕΙΟ', 2,df['location_price_category'])\n",
        "df['location_price_category'] = np.where(df['neighbourhood'] == 'ΠΕΔΙΟ ΑΡΕΩΣ', 3,df['location_price_category'])\n",
        "df['location_price_category'] = np.where(df['neighbourhood'] == 'ΠΕΤΡΑΛΩΝΑ', 5,df['location_price_category'])\n",
        "df['location_price_category'] = np.where(df['neighbourhood'] == 'ΑΚΡΟΠΟΛΗ', 2,df['location_price_category'])\n",
        "df['location_price_category'] = np.where(df['neighbourhood'] == 'ΓΚΥΖΗ', 4,df['location_price_category'])\n",
        "df['location_price_category'] = np.where(df['neighbourhood'] == 'ΠΡΟΜΠΟΝΑ', 7,df['location_price_category'])\n",
        "df['location_price_category'] = np.where(df['neighbourhood'] == 'ΓΟΥΔΙ', 4,df['location_price_category'])\n",
        "df['location_price_category'] = np.where(df['neighbourhood'] == 'ΓΚΑΖΙ', 6,df['location_price_category'])\n",
        "df['location_price_category'] = np.where(df['neighbourhood'] == 'ΚΟΛΩΝΟΣ', 7,df['location_price_category'])\n",
        "df['location_price_category'] = np.where(df['neighbourhood'] == 'ΝΙΡΒΑΝΑ', 6,df['location_price_category'])\n",
        "df['location_price_category'] = np.where(df['neighbourhood'] == 'ΖΑΠΠΕΙΟ', 2,df['location_price_category'])\n",
        "df['location_price_category'] = np.where(df['neighbourhood'] == 'ΚΥΨΕΛΗ', 4,df['location_price_category'])\n",
        "df['location_price_category'] = np.where(df['neighbourhood'] == 'ΛΥΚΑΒΗΤΤΟΣ', 1,df['location_price_category'])\n",
        "df['location_price_category'] = np.where(df['neighbourhood'] == 'ΑΓΙΟΣ ΕΛΕΥΘΕΡΙΟΣ', 5,df['location_price_category'])\n",
        "df['location_price_category'] = np.where(df['neighbourhood'] == 'ΠΑΤΗΣΙΑ', 4,df['location_price_category'])\n",
        "df['location_price_category'] = np.where(df['neighbourhood'] == 'ΕΛΛΗΝΟΡΩΣΩΝ', 3,df['location_price_category'])\n",
        "df['location_price_category'] = np.where(df['neighbourhood'] == 'ΠΕΝΤΑΓΩΝΟ', 2,df['location_price_category'])\n",
        "df['location_price_category'] = np.where(df['neighbourhood'] == 'ΡΙΖΟΥΠΟΛΗ', 5,df['location_price_category'])\n",
        "df['location_price_category'] = np.where(df['neighbourhood'] == 'ΠΟΛΥΓΩΝΟ', 4,df['location_price_category'])\n",
        "df['location_price_category'] = np.where(df['neighbourhood'] == 'ΣΕΠΟΛΙΑ', 7,df['location_price_category'])\n",
        "df['location_price_category'] = np.where(df['neighbourhood'] == 'ΣΤΑΘΜΟΣ ΛΑΡΙΣΗΣ', 5,df['location_price_category'])\n",
        "df['location_price_category'] = np.where(df['neighbourhood'] == 'ΡΙΓΗΛΛΗ', 1,df['location_price_category'])\n",
        "df['location_price_category'] = np.where(df['neighbourhood'] == 'ΚΟΛΟΚΥΝΘΟΥ', 7,df['location_price_category'])\n",
        "df['location_price_category'] = np.where(df['neighbourhood'] == 'ΡΟΥΦ', 7,df['location_price_category'])"
      ],
      "execution_count": 23,
      "outputs": []
    },
    {
      "cell_type": "code",
      "metadata": {
        "id": "NKxKw7bth_xc"
      },
      "source": [
        "df1['location_price_category']=0"
      ],
      "execution_count": 24,
      "outputs": []
    },
    {
      "cell_type": "code",
      "metadata": {
        "id": "8YJIEeCUhwkV"
      },
      "source": [
        "df1['location_price_category'] = np.where(df1['neighbourhood'] == 'ΑΜΠΕΛΟΚΗΠΟΙ', 4,df1['location_price_category'])\n",
        "df1['location_price_category'] = np.where(df1['neighbourhood'] == 'ΕΜΠΟΡΙΚΟ ΤΡΙΓΩΝΟ-ΠΛΑΚΑ',4,df1['location_price_category'])\n",
        "df1['location_price_category'] = np.where(df1['neighbourhood'] == 'ΚΕΡΑΜΕΙΚΟΣ', 6,df1['location_price_category'])\n",
        "df1['location_price_category'] = np.where(df1['neighbourhood'] == 'ΑΓΙΟΣ ΝΙΚΟΛΑΟΣ',5,df1['location_price_category'])\n",
        "df1['location_price_category'] = np.where(df1['neighbourhood'] == 'ΠΑΓΚΡΑΤΙ',4,df1['location_price_category'])\n",
        "df1['location_price_category'] = np.where(df1['neighbourhood'] == 'ΠΛΑΤΕΙΑ ΑΤΤΙΚΗΣ', 5,df1['location_price_category'])\n",
        "df1['location_price_category'] = np.where(df1['neighbourhood'] == 'ΣΤΑΔΙΟ', 3,df1['location_price_category'])\n",
        "df1['location_price_category'] = np.where(df1['neighbourhood'] == 'ΑΓΙΟΣ ΚΩΝΣΤΑΝΤΙΝΟΣ-ΠΛΑΤΕΙΑ ΒΑΘΗΣ', 5,df1['location_price_category'])\n",
        "df1['location_price_category'] = np.where(df1['neighbourhood'] == '1Ο ΝΕΚΡΟΤΑΦΕΙΟ', 4,df1['location_price_category'])\n",
        "df1['location_price_category'] = np.where(df1['neighbourhood'] == 'ΜΟΥΣΕΙΟ-ΕΞΑΡΧΕΙΑ-ΝΕΑΠΟΛΗ', 3,df1['location_price_category'])\n",
        "df1['location_price_category'] = np.where(df1['neighbourhood'] == 'ΑΚΑΔΗΜΙΑ ΠΛΑΤΩΝΟΣ', 7,df1['location_price_category'])\n",
        "df1['location_price_category'] = np.where(df1['neighbourhood'] == 'ΚΟΥΚΑΚΙ-ΜΑΚΡΥΓΙΑΝΝΗ', 4,df1['location_price_category'])\n",
        "df1['location_price_category'] = np.where(df1['neighbourhood'] == 'ΓΟΥΒΑ', 4,df1['location_price_category'])\n",
        "df1['location_price_category'] = np.where(df1['neighbourhood'] == 'ΝΕΑ ΚΥΨΕΛΗ', 4,df1['location_price_category'])\n",
        "df1['location_price_category'] = np.where(df1['neighbourhood'] == 'ΚΟΛΩΝΑΚΙ', 1,df1['location_price_category'])\n",
        "df1['location_price_category'] = np.where(df1['neighbourhood'] == 'ΑΝΩ ΚΥΨΕΛΗ', 4,df1['location_price_category'])\n",
        "df1['location_price_category'] = np.where(df1['neighbourhood'] == 'ΒΟΤΑΝΙΚΟΣ', 7,df1['location_price_category'])\n",
        "df1['location_price_category'] = np.where(df1['neighbourhood'] == 'ΑΝΩ ΠΑΤΗΣΙΑ', 4,df1['location_price_category'])\n",
        "df1['location_price_category'] = np.where(df1['neighbourhood'] == 'ΝΕΟΣ ΚΟΣΜΟΣ', 5,df1['location_price_category'])\n",
        "df1['location_price_category'] = np.where(df1['neighbourhood'] == 'ΠΛΑΤΕΙΑ ΑΜΕΡΙΚΗΣ', 5,df1['location_price_category'])\n",
        "df1['location_price_category'] = np.where(df1['neighbourhood'] == 'ΙΛΙΣΙΑ', 4,df1['location_price_category'])\n",
        "df1['location_price_category'] = np.where(df1['neighbourhood'] == 'ΘΗΣΕΙΟ', 2,df1['location_price_category'])\n",
        "df1['location_price_category'] = np.where(df1['neighbourhood'] == 'ΠΕΔΙΟ ΑΡΕΩΣ', 3,df1['location_price_category'])\n",
        "df1['location_price_category'] = np.where(df1['neighbourhood'] == 'ΠΕΤΡΑΛΩΝΑ', 5,df1['location_price_category'])\n",
        "df1['location_price_category'] = np.where(df1['neighbourhood'] == 'ΑΚΡΟΠΟΛΗ', 2,df1['location_price_category'])\n",
        "df1['location_price_category'] = np.where(df1['neighbourhood'] == 'ΓΚΥΖΗ', 4,df1['location_price_category'])\n",
        "df1['location_price_category'] = np.where(df1['neighbourhood'] == 'ΠΡΟΜΠΟΝΑ', 7,df1['location_price_category'])\n",
        "df1['location_price_category'] = np.where(df1['neighbourhood'] == 'ΓΟΥΔΙ', 4,df1['location_price_category'])\n",
        "df1['location_price_category'] = np.where(df1['neighbourhood'] == 'ΓΚΑΖΙ', 6,df1['location_price_category'])\n",
        "df1['location_price_category'] = np.where(df1['neighbourhood'] == 'ΚΟΛΩΝΟΣ', 7,df1['location_price_category'])\n",
        "df1['location_price_category'] = np.where(df1['neighbourhood'] == 'ΝΙΡΒΑΝΑ', 6,df1['location_price_category'])\n",
        "df1['location_price_category'] = np.where(df1['neighbourhood'] == 'ΖΑΠΠΕΙΟ', 2,df1['location_price_category'])\n",
        "df1['location_price_category'] = np.where(df1['neighbourhood'] == 'ΚΥΨΕΛΗ', 4,df1['location_price_category'])\n",
        "df1['location_price_category'] = np.where(df1['neighbourhood'] == 'ΛΥΚΑΒΗΤΤΟΣ', 1,df1['location_price_category'])\n",
        "df1['location_price_category'] = np.where(df1['neighbourhood'] == 'ΑΓΙΟΣ ΕΛΕΥΘΕΡΙΟΣ', 5,df1['location_price_category'])\n",
        "df1['location_price_category'] = np.where(df1['neighbourhood'] == 'ΠΑΤΗΣΙΑ', 4,df1['location_price_category'])\n",
        "df1['location_price_category'] = np.where(df1['neighbourhood'] == 'ΕΛΛΗΝΟΡΩΣΩΝ', 3,df1['location_price_category'])\n",
        "df1['location_price_category'] = np.where(df1['neighbourhood'] == 'ΠΕΝΤΑΓΩΝΟ', 2,df1['location_price_category'])\n",
        "df1['location_price_category'] = np.where(df1['neighbourhood'] == 'ΡΙΖΟΥΠΟΛΗ', 5,df1['location_price_category'])\n",
        "df1['location_price_category'] = np.where(df1['neighbourhood'] == 'ΠΟΛΥΓΩΝΟ', 4,df1['location_price_category'])\n",
        "df1['location_price_category'] = np.where(df1['neighbourhood'] == 'ΣΕΠΟΛΙΑ', 7,df1['location_price_category'])\n",
        "df1['location_price_category'] = np.where(df1['neighbourhood'] == 'ΣΤΑΘΜΟΣ ΛΑΡΙΣΗΣ', 5,df1['location_price_category'])\n",
        "df1['location_price_category'] = np.where(df1['neighbourhood'] == 'ΡΙΓΗΛΛΗ', 1,df1['location_price_category'])\n",
        "df1['location_price_category'] = np.where(df1['neighbourhood'] == 'ΚΟΛΟΚΥΝΘΟΥ', 7,df1['location_price_category'])\n",
        "df1['location_price_category'] = np.where(df1['neighbourhood'] == 'ΡΟΥΦ', 7,df1['location_price_category'])"
      ],
      "execution_count": 25,
      "outputs": []
    },
    {
      "cell_type": "code",
      "metadata": {
        "id": "uoH_reOS6jE2",
        "colab": {
          "base_uri": "https://localhost:8080/",
          "height": 414
        },
        "outputId": "4d519aa0-05d4-4895-e943-b5e93eb830d5"
      },
      "source": [
        "df.corr(method ='pearson') "
      ],
      "execution_count": 26,
      "outputs": [
        {
          "output_type": "execute_result",
          "data": {
            "text/html": [
              "<div>\n",
              "<style scoped>\n",
              "    .dataframe tbody tr th:only-of-type {\n",
              "        vertical-align: middle;\n",
              "    }\n",
              "\n",
              "    .dataframe tbody tr th {\n",
              "        vertical-align: top;\n",
              "    }\n",
              "\n",
              "    .dataframe thead th {\n",
              "        text-align: right;\n",
              "    }\n",
              "</style>\n",
              "<table border=\"1\" class=\"dataframe\">\n",
              "  <thead>\n",
              "    <tr style=\"text-align: right;\">\n",
              "      <th></th>\n",
              "      <th>latitude</th>\n",
              "      <th>longitude</th>\n",
              "      <th>price</th>\n",
              "      <th>minimum_nights</th>\n",
              "      <th>number_of_reviews</th>\n",
              "      <th>reviews_per_month</th>\n",
              "      <th>calculated_host_listings_count</th>\n",
              "      <th>availability_365</th>\n",
              "      <th>Room_Type_Label</th>\n",
              "      <th>cost_per_stay</th>\n",
              "      <th>location_price_category</th>\n",
              "    </tr>\n",
              "  </thead>\n",
              "  <tbody>\n",
              "    <tr>\n",
              "      <th>latitude</th>\n",
              "      <td>1.000000</td>\n",
              "      <td>0.177470</td>\n",
              "      <td>-0.060612</td>\n",
              "      <td>0.100661</td>\n",
              "      <td>-0.095151</td>\n",
              "      <td>-0.108830</td>\n",
              "      <td>-0.083948</td>\n",
              "      <td>-0.080745</td>\n",
              "      <td>0.057190</td>\n",
              "      <td>-0.048795</td>\n",
              "      <td>0.165955</td>\n",
              "    </tr>\n",
              "    <tr>\n",
              "      <th>longitude</th>\n",
              "      <td>0.177470</td>\n",
              "      <td>1.000000</td>\n",
              "      <td>-0.019880</td>\n",
              "      <td>0.092077</td>\n",
              "      <td>-0.080318</td>\n",
              "      <td>-0.110947</td>\n",
              "      <td>-0.019663</td>\n",
              "      <td>-0.026164</td>\n",
              "      <td>-0.048810</td>\n",
              "      <td>0.004973</td>\n",
              "      <td>-0.363721</td>\n",
              "    </tr>\n",
              "    <tr>\n",
              "      <th>price</th>\n",
              "      <td>-0.060612</td>\n",
              "      <td>-0.019880</td>\n",
              "      <td>1.000000</td>\n",
              "      <td>-0.046028</td>\n",
              "      <td>-0.052785</td>\n",
              "      <td>-0.051809</td>\n",
              "      <td>0.023229</td>\n",
              "      <td>0.055968</td>\n",
              "      <td>0.017985</td>\n",
              "      <td>0.858006</td>\n",
              "      <td>-0.047979</td>\n",
              "    </tr>\n",
              "    <tr>\n",
              "      <th>minimum_nights</th>\n",
              "      <td>0.100661</td>\n",
              "      <td>0.092077</td>\n",
              "      <td>-0.046028</td>\n",
              "      <td>1.000000</td>\n",
              "      <td>-0.067496</td>\n",
              "      <td>-0.128406</td>\n",
              "      <td>-0.113004</td>\n",
              "      <td>-0.087789</td>\n",
              "      <td>-0.074891</td>\n",
              "      <td>0.269741</td>\n",
              "      <td>-0.001097</td>\n",
              "    </tr>\n",
              "    <tr>\n",
              "      <th>number_of_reviews</th>\n",
              "      <td>-0.095151</td>\n",
              "      <td>-0.080318</td>\n",
              "      <td>-0.052785</td>\n",
              "      <td>-0.067496</td>\n",
              "      <td>1.000000</td>\n",
              "      <td>0.793808</td>\n",
              "      <td>-0.031531</td>\n",
              "      <td>0.039818</td>\n",
              "      <td>-0.087411</td>\n",
              "      <td>-0.074511</td>\n",
              "      <td>-0.010992</td>\n",
              "    </tr>\n",
              "    <tr>\n",
              "      <th>reviews_per_month</th>\n",
              "      <td>-0.108830</td>\n",
              "      <td>-0.110947</td>\n",
              "      <td>-0.051809</td>\n",
              "      <td>-0.128406</td>\n",
              "      <td>0.793808</td>\n",
              "      <td>1.000000</td>\n",
              "      <td>-0.025914</td>\n",
              "      <td>0.037646</td>\n",
              "      <td>-0.096495</td>\n",
              "      <td>-0.090683</td>\n",
              "      <td>0.002889</td>\n",
              "    </tr>\n",
              "    <tr>\n",
              "      <th>calculated_host_listings_count</th>\n",
              "      <td>-0.083948</td>\n",
              "      <td>-0.019663</td>\n",
              "      <td>0.023229</td>\n",
              "      <td>-0.113004</td>\n",
              "      <td>-0.031531</td>\n",
              "      <td>-0.025914</td>\n",
              "      <td>1.000000</td>\n",
              "      <td>0.102479</td>\n",
              "      <td>-0.008837</td>\n",
              "      <td>-0.002851</td>\n",
              "      <td>-0.025453</td>\n",
              "    </tr>\n",
              "    <tr>\n",
              "      <th>availability_365</th>\n",
              "      <td>-0.080745</td>\n",
              "      <td>-0.026164</td>\n",
              "      <td>0.055968</td>\n",
              "      <td>-0.087789</td>\n",
              "      <td>0.039818</td>\n",
              "      <td>0.037646</td>\n",
              "      <td>0.102479</td>\n",
              "      <td>1.000000</td>\n",
              "      <td>-0.033396</td>\n",
              "      <td>0.037157</td>\n",
              "      <td>-0.040658</td>\n",
              "    </tr>\n",
              "    <tr>\n",
              "      <th>Room_Type_Label</th>\n",
              "      <td>0.057190</td>\n",
              "      <td>-0.048810</td>\n",
              "      <td>0.017985</td>\n",
              "      <td>-0.074891</td>\n",
              "      <td>-0.087411</td>\n",
              "      <td>-0.096495</td>\n",
              "      <td>-0.008837</td>\n",
              "      <td>-0.033396</td>\n",
              "      <td>1.000000</td>\n",
              "      <td>-0.039608</td>\n",
              "      <td>0.067607</td>\n",
              "    </tr>\n",
              "    <tr>\n",
              "      <th>cost_per_stay</th>\n",
              "      <td>-0.048795</td>\n",
              "      <td>0.004973</td>\n",
              "      <td>0.858006</td>\n",
              "      <td>0.269741</td>\n",
              "      <td>-0.074511</td>\n",
              "      <td>-0.090683</td>\n",
              "      <td>-0.002851</td>\n",
              "      <td>0.037157</td>\n",
              "      <td>-0.039608</td>\n",
              "      <td>1.000000</td>\n",
              "      <td>-0.073896</td>\n",
              "    </tr>\n",
              "    <tr>\n",
              "      <th>location_price_category</th>\n",
              "      <td>0.165955</td>\n",
              "      <td>-0.363721</td>\n",
              "      <td>-0.047979</td>\n",
              "      <td>-0.001097</td>\n",
              "      <td>-0.010992</td>\n",
              "      <td>0.002889</td>\n",
              "      <td>-0.025453</td>\n",
              "      <td>-0.040658</td>\n",
              "      <td>0.067607</td>\n",
              "      <td>-0.073896</td>\n",
              "      <td>1.000000</td>\n",
              "    </tr>\n",
              "  </tbody>\n",
              "</table>\n",
              "</div>"
            ],
            "text/plain": [
              "                                latitude  ...  location_price_category\n",
              "latitude                        1.000000  ...                 0.165955\n",
              "longitude                       0.177470  ...                -0.363721\n",
              "price                          -0.060612  ...                -0.047979\n",
              "minimum_nights                  0.100661  ...                -0.001097\n",
              "number_of_reviews              -0.095151  ...                -0.010992\n",
              "reviews_per_month              -0.108830  ...                 0.002889\n",
              "calculated_host_listings_count -0.083948  ...                -0.025453\n",
              "availability_365               -0.080745  ...                -0.040658\n",
              "Room_Type_Label                 0.057190  ...                 0.067607\n",
              "cost_per_stay                  -0.048795  ...                -0.073896\n",
              "location_price_category         0.165955  ...                 1.000000\n",
              "\n",
              "[11 rows x 11 columns]"
            ]
          },
          "metadata": {
            "tags": []
          },
          "execution_count": 26
        }
      ]
    },
    {
      "cell_type": "code",
      "metadata": {
        "id": "rwZ6dV8Hbg2R",
        "colab": {
          "base_uri": "https://localhost:8080/",
          "height": 617
        },
        "outputId": "277e3038-127d-4f0a-8923-c565830bddaf"
      },
      "source": [
        "df1"
      ],
      "execution_count": 27,
      "outputs": [
        {
          "output_type": "execute_result",
          "data": {
            "text/html": [
              "<div>\n",
              "<style scoped>\n",
              "    .dataframe tbody tr th:only-of-type {\n",
              "        vertical-align: middle;\n",
              "    }\n",
              "\n",
              "    .dataframe tbody tr th {\n",
              "        vertical-align: top;\n",
              "    }\n",
              "\n",
              "    .dataframe thead th {\n",
              "        text-align: right;\n",
              "    }\n",
              "</style>\n",
              "<table border=\"1\" class=\"dataframe\">\n",
              "  <thead>\n",
              "    <tr style=\"text-align: right;\">\n",
              "      <th></th>\n",
              "      <th>neighbourhood</th>\n",
              "      <th>latitude</th>\n",
              "      <th>longitude</th>\n",
              "      <th>room_type</th>\n",
              "      <th>price</th>\n",
              "      <th>minimum_nights</th>\n",
              "      <th>number_of_reviews</th>\n",
              "      <th>reviews_per_month</th>\n",
              "      <th>calculated_host_listings_count</th>\n",
              "      <th>availability_365</th>\n",
              "      <th>Room_Type_Label</th>\n",
              "      <th>cost_per_stay</th>\n",
              "      <th>location_price_category</th>\n",
              "    </tr>\n",
              "  </thead>\n",
              "  <tbody>\n",
              "    <tr>\n",
              "      <th>0</th>\n",
              "      <td>ΑΜΠΕΛΟΚΗΠΟΙ</td>\n",
              "      <td>37.98863</td>\n",
              "      <td>23.765270</td>\n",
              "      <td>Entire home/apt</td>\n",
              "      <td>63</td>\n",
              "      <td>1</td>\n",
              "      <td>25</td>\n",
              "      <td>0.22</td>\n",
              "      <td>6</td>\n",
              "      <td>356</td>\n",
              "      <td>0</td>\n",
              "      <td>63</td>\n",
              "      <td>4</td>\n",
              "    </tr>\n",
              "    <tr>\n",
              "      <th>1</th>\n",
              "      <td>ΑΜΠΕΛΟΚΗΠΟΙ</td>\n",
              "      <td>37.98903</td>\n",
              "      <td>23.764480</td>\n",
              "      <td>Entire home/apt</td>\n",
              "      <td>39</td>\n",
              "      <td>1</td>\n",
              "      <td>36</td>\n",
              "      <td>0.37</td>\n",
              "      <td>6</td>\n",
              "      <td>246</td>\n",
              "      <td>0</td>\n",
              "      <td>39</td>\n",
              "      <td>4</td>\n",
              "    </tr>\n",
              "    <tr>\n",
              "      <th>2</th>\n",
              "      <td>ΑΜΠΕΛΟΚΗΠΟΙ</td>\n",
              "      <td>37.98888</td>\n",
              "      <td>23.764730</td>\n",
              "      <td>Entire home/apt</td>\n",
              "      <td>39</td>\n",
              "      <td>1</td>\n",
              "      <td>48</td>\n",
              "      <td>0.50</td>\n",
              "      <td>6</td>\n",
              "      <td>345</td>\n",
              "      <td>0</td>\n",
              "      <td>39</td>\n",
              "      <td>4</td>\n",
              "    </tr>\n",
              "    <tr>\n",
              "      <th>3</th>\n",
              "      <td>ΑΜΠΕΛΟΚΗΠΟΙ</td>\n",
              "      <td>37.98903</td>\n",
              "      <td>23.764480</td>\n",
              "      <td>Entire home/apt</td>\n",
              "      <td>31</td>\n",
              "      <td>1</td>\n",
              "      <td>21</td>\n",
              "      <td>0.17</td>\n",
              "      <td>6</td>\n",
              "      <td>227</td>\n",
              "      <td>0</td>\n",
              "      <td>31</td>\n",
              "      <td>4</td>\n",
              "    </tr>\n",
              "    <tr>\n",
              "      <th>4</th>\n",
              "      <td>ΑΜΠΕΛΟΚΗΠΟΙ</td>\n",
              "      <td>37.98924</td>\n",
              "      <td>23.765000</td>\n",
              "      <td>Entire home/apt</td>\n",
              "      <td>34</td>\n",
              "      <td>1</td>\n",
              "      <td>17</td>\n",
              "      <td>0.18</td>\n",
              "      <td>6</td>\n",
              "      <td>237</td>\n",
              "      <td>0</td>\n",
              "      <td>34</td>\n",
              "      <td>4</td>\n",
              "    </tr>\n",
              "    <tr>\n",
              "      <th>...</th>\n",
              "      <td>...</td>\n",
              "      <td>...</td>\n",
              "      <td>...</td>\n",
              "      <td>...</td>\n",
              "      <td>...</td>\n",
              "      <td>...</td>\n",
              "      <td>...</td>\n",
              "      <td>...</td>\n",
              "      <td>...</td>\n",
              "      <td>...</td>\n",
              "      <td>...</td>\n",
              "      <td>...</td>\n",
              "      <td>...</td>\n",
              "    </tr>\n",
              "    <tr>\n",
              "      <th>11232</th>\n",
              "      <td>ΠΑΓΚΡΑΤΙ</td>\n",
              "      <td>37.96450</td>\n",
              "      <td>23.755190</td>\n",
              "      <td>Entire home/apt</td>\n",
              "      <td>36</td>\n",
              "      <td>1</td>\n",
              "      <td>0</td>\n",
              "      <td>1.00</td>\n",
              "      <td>2</td>\n",
              "      <td>0</td>\n",
              "      <td>0</td>\n",
              "      <td>36</td>\n",
              "      <td>4</td>\n",
              "    </tr>\n",
              "    <tr>\n",
              "      <th>11233</th>\n",
              "      <td>ΓΚΑΖΙ</td>\n",
              "      <td>37.97815</td>\n",
              "      <td>23.709680</td>\n",
              "      <td>Entire home/apt</td>\n",
              "      <td>34</td>\n",
              "      <td>2</td>\n",
              "      <td>0</td>\n",
              "      <td>1.00</td>\n",
              "      <td>5</td>\n",
              "      <td>331</td>\n",
              "      <td>0</td>\n",
              "      <td>68</td>\n",
              "      <td>6</td>\n",
              "    </tr>\n",
              "    <tr>\n",
              "      <th>11234</th>\n",
              "      <td>ΑΝΩ ΠΑΤΗΣΙΑ</td>\n",
              "      <td>38.01984</td>\n",
              "      <td>23.732670</td>\n",
              "      <td>Entire home/apt</td>\n",
              "      <td>50</td>\n",
              "      <td>1</td>\n",
              "      <td>0</td>\n",
              "      <td>1.00</td>\n",
              "      <td>2</td>\n",
              "      <td>0</td>\n",
              "      <td>0</td>\n",
              "      <td>50</td>\n",
              "      <td>4</td>\n",
              "    </tr>\n",
              "    <tr>\n",
              "      <th>11236</th>\n",
              "      <td>ΠΑΓΚΡΑΤΙ</td>\n",
              "      <td>37.96640</td>\n",
              "      <td>23.746534</td>\n",
              "      <td>Entire home/apt</td>\n",
              "      <td>40</td>\n",
              "      <td>2</td>\n",
              "      <td>0</td>\n",
              "      <td>1.00</td>\n",
              "      <td>1</td>\n",
              "      <td>169</td>\n",
              "      <td>0</td>\n",
              "      <td>80</td>\n",
              "      <td>4</td>\n",
              "    </tr>\n",
              "    <tr>\n",
              "      <th>11237</th>\n",
              "      <td>ΓΟΥΒΑ</td>\n",
              "      <td>37.95877</td>\n",
              "      <td>23.743640</td>\n",
              "      <td>Entire home/apt</td>\n",
              "      <td>29</td>\n",
              "      <td>1</td>\n",
              "      <td>0</td>\n",
              "      <td>1.00</td>\n",
              "      <td>1</td>\n",
              "      <td>365</td>\n",
              "      <td>0</td>\n",
              "      <td>29</td>\n",
              "      <td>4</td>\n",
              "    </tr>\n",
              "  </tbody>\n",
              "</table>\n",
              "<p>10870 rows × 13 columns</p>\n",
              "</div>"
            ],
            "text/plain": [
              "      neighbourhood  latitude  ...  cost_per_stay location_price_category\n",
              "0       ΑΜΠΕΛΟΚΗΠΟΙ  37.98863  ...             63                       4\n",
              "1       ΑΜΠΕΛΟΚΗΠΟΙ  37.98903  ...             39                       4\n",
              "2       ΑΜΠΕΛΟΚΗΠΟΙ  37.98888  ...             39                       4\n",
              "3       ΑΜΠΕΛΟΚΗΠΟΙ  37.98903  ...             31                       4\n",
              "4       ΑΜΠΕΛΟΚΗΠΟΙ  37.98924  ...             34                       4\n",
              "...             ...       ...  ...            ...                     ...\n",
              "11232      ΠΑΓΚΡΑΤΙ  37.96450  ...             36                       4\n",
              "11233         ΓΚΑΖΙ  37.97815  ...             68                       6\n",
              "11234   ΑΝΩ ΠΑΤΗΣΙΑ  38.01984  ...             50                       4\n",
              "11236      ΠΑΓΚΡΑΤΙ  37.96640  ...             80                       4\n",
              "11237         ΓΟΥΒΑ  37.95877  ...             29                       4\n",
              "\n",
              "[10870 rows x 13 columns]"
            ]
          },
          "metadata": {
            "tags": []
          },
          "execution_count": 27
        }
      ]
    },
    {
      "cell_type": "code",
      "metadata": {
        "id": "ozUSO-VycAqy"
      },
      "source": [
        "from sklearn.model_selection import train_test_split\n",
        "\n",
        "x = df[[\"number_of_reviews\",\"reviews_per_month\",\"calculated_host_listings_count\",\"availability_365\",\"Room_Type_Label\",\"cost_per_stay\",\"location_price_category\",\n",
        "        \"latitude\",\"longitude\"]]\n",
        "y = df[[\"price\"]]\n",
        "x_train, x_test, y_train, y_test = train_test_split(x, y, train_size=0.9, random_state=None)"
      ],
      "execution_count": 28,
      "outputs": []
    },
    {
      "cell_type": "code",
      "metadata": {
        "id": "kE3vXz-N4pe6",
        "colab": {
          "base_uri": "https://localhost:8080/",
          "height": 444
        },
        "outputId": "c3b09a3f-beb3-48a8-e87a-f8a4d830da8f"
      },
      "source": [
        "x_train"
      ],
      "execution_count": 29,
      "outputs": [
        {
          "output_type": "execute_result",
          "data": {
            "text/html": [
              "<div>\n",
              "<style scoped>\n",
              "    .dataframe tbody tr th:only-of-type {\n",
              "        vertical-align: middle;\n",
              "    }\n",
              "\n",
              "    .dataframe tbody tr th {\n",
              "        vertical-align: top;\n",
              "    }\n",
              "\n",
              "    .dataframe thead th {\n",
              "        text-align: right;\n",
              "    }\n",
              "</style>\n",
              "<table border=\"1\" class=\"dataframe\">\n",
              "  <thead>\n",
              "    <tr style=\"text-align: right;\">\n",
              "      <th></th>\n",
              "      <th>number_of_reviews</th>\n",
              "      <th>reviews_per_month</th>\n",
              "      <th>calculated_host_listings_count</th>\n",
              "      <th>availability_365</th>\n",
              "      <th>Room_Type_Label</th>\n",
              "      <th>cost_per_stay</th>\n",
              "      <th>location_price_category</th>\n",
              "      <th>latitude</th>\n",
              "      <th>longitude</th>\n",
              "    </tr>\n",
              "  </thead>\n",
              "  <tbody>\n",
              "    <tr>\n",
              "      <th>6661</th>\n",
              "      <td>38</td>\n",
              "      <td>2.32</td>\n",
              "      <td>3</td>\n",
              "      <td>365</td>\n",
              "      <td>0</td>\n",
              "      <td>48</td>\n",
              "      <td>4</td>\n",
              "      <td>37.98544</td>\n",
              "      <td>23.72495</td>\n",
              "    </tr>\n",
              "    <tr>\n",
              "      <th>7594</th>\n",
              "      <td>0</td>\n",
              "      <td>1.00</td>\n",
              "      <td>6</td>\n",
              "      <td>163</td>\n",
              "      <td>1</td>\n",
              "      <td>135</td>\n",
              "      <td>4</td>\n",
              "      <td>37.97704</td>\n",
              "      <td>23.72875</td>\n",
              "    </tr>\n",
              "    <tr>\n",
              "      <th>1310</th>\n",
              "      <td>299</td>\n",
              "      <td>6.10</td>\n",
              "      <td>1</td>\n",
              "      <td>349</td>\n",
              "      <td>0</td>\n",
              "      <td>64</td>\n",
              "      <td>4</td>\n",
              "      <td>37.99337</td>\n",
              "      <td>23.76151</td>\n",
              "    </tr>\n",
              "    <tr>\n",
              "      <th>5416</th>\n",
              "      <td>0</td>\n",
              "      <td>1.00</td>\n",
              "      <td>2</td>\n",
              "      <td>179</td>\n",
              "      <td>2</td>\n",
              "      <td>160</td>\n",
              "      <td>6</td>\n",
              "      <td>37.97838</td>\n",
              "      <td>23.71106</td>\n",
              "    </tr>\n",
              "    <tr>\n",
              "      <th>4201</th>\n",
              "      <td>42</td>\n",
              "      <td>1.63</td>\n",
              "      <td>3</td>\n",
              "      <td>0</td>\n",
              "      <td>0</td>\n",
              "      <td>78</td>\n",
              "      <td>6</td>\n",
              "      <td>37.97758</td>\n",
              "      <td>23.70871</td>\n",
              "    </tr>\n",
              "    <tr>\n",
              "      <th>...</th>\n",
              "      <td>...</td>\n",
              "      <td>...</td>\n",
              "      <td>...</td>\n",
              "      <td>...</td>\n",
              "      <td>...</td>\n",
              "      <td>...</td>\n",
              "      <td>...</td>\n",
              "      <td>...</td>\n",
              "      <td>...</td>\n",
              "    </tr>\n",
              "    <tr>\n",
              "      <th>8072</th>\n",
              "      <td>0</td>\n",
              "      <td>1.00</td>\n",
              "      <td>22</td>\n",
              "      <td>349</td>\n",
              "      <td>0</td>\n",
              "      <td>90</td>\n",
              "      <td>4</td>\n",
              "      <td>37.97784</td>\n",
              "      <td>23.73081</td>\n",
              "    </tr>\n",
              "    <tr>\n",
              "      <th>6535</th>\n",
              "      <td>8</td>\n",
              "      <td>0.63</td>\n",
              "      <td>1</td>\n",
              "      <td>0</td>\n",
              "      <td>0</td>\n",
              "      <td>45</td>\n",
              "      <td>5</td>\n",
              "      <td>37.98661</td>\n",
              "      <td>23.71923</td>\n",
              "    </tr>\n",
              "    <tr>\n",
              "      <th>9612</th>\n",
              "      <td>0</td>\n",
              "      <td>1.00</td>\n",
              "      <td>1</td>\n",
              "      <td>0</td>\n",
              "      <td>0</td>\n",
              "      <td>165</td>\n",
              "      <td>4</td>\n",
              "      <td>38.00252</td>\n",
              "      <td>23.73768</td>\n",
              "    </tr>\n",
              "    <tr>\n",
              "      <th>6809</th>\n",
              "      <td>60</td>\n",
              "      <td>4.30</td>\n",
              "      <td>3</td>\n",
              "      <td>247</td>\n",
              "      <td>0</td>\n",
              "      <td>110</td>\n",
              "      <td>4</td>\n",
              "      <td>37.96363</td>\n",
              "      <td>23.72223</td>\n",
              "    </tr>\n",
              "    <tr>\n",
              "      <th>2118</th>\n",
              "      <td>0</td>\n",
              "      <td>1.00</td>\n",
              "      <td>1</td>\n",
              "      <td>365</td>\n",
              "      <td>0</td>\n",
              "      <td>143</td>\n",
              "      <td>3</td>\n",
              "      <td>37.98232</td>\n",
              "      <td>23.73700</td>\n",
              "    </tr>\n",
              "  </tbody>\n",
              "</table>\n",
              "<p>9867 rows × 9 columns</p>\n",
              "</div>"
            ],
            "text/plain": [
              "      number_of_reviews  reviews_per_month  ...  latitude  longitude\n",
              "6661                 38               2.32  ...  37.98544   23.72495\n",
              "7594                  0               1.00  ...  37.97704   23.72875\n",
              "1310                299               6.10  ...  37.99337   23.76151\n",
              "5416                  0               1.00  ...  37.97838   23.71106\n",
              "4201                 42               1.63  ...  37.97758   23.70871\n",
              "...                 ...                ...  ...       ...        ...\n",
              "8072                  0               1.00  ...  37.97784   23.73081\n",
              "6535                  8               0.63  ...  37.98661   23.71923\n",
              "9612                  0               1.00  ...  38.00252   23.73768\n",
              "6809                 60               4.30  ...  37.96363   23.72223\n",
              "2118                  0               1.00  ...  37.98232   23.73700\n",
              "\n",
              "[9867 rows x 9 columns]"
            ]
          },
          "metadata": {
            "tags": []
          },
          "execution_count": 29
        }
      ]
    },
    {
      "cell_type": "code",
      "metadata": {
        "id": "cKvZ6IfVtI8a",
        "colab": {
          "base_uri": "https://localhost:8080/",
          "height": 237
        },
        "outputId": "04be58c4-47c0-4706-844c-b5da8d7a03fb"
      },
      "source": [
        "# scale = preprocessing.StandardScaler().fit(x_train) #scaling training samples\n",
        "# m_train=scale.mean_ #exctracting medean\n",
        "# s_train=scale.scale_ #exctracting standard deviation\n",
        "# x_train= (x_train -m_train) / s_train;\n",
        "\n",
        "from sklearn.metrics import confusion_matrix\n",
        "from sklearn.metrics import accuracy_score\n",
        "from sklearn.metrics import recall_score\n",
        "from sklearn.metrics import precision_score\n",
        "model2 = LogisticRegression().fit(x_train,y_train) # the ravel method was found on stackov\n",
        "pred_lg=model2.predict(x_test) \n",
        "pred_lg[pred_lg > 0.5] = 1 #changing pred table for probabilities to binary output to match the current problem pred_lg[pred_lg <= 0.5] = 0\n",
        "  \n",
        "accuracy_lg=accuracy_score(y_test, pred_lg) \n",
        "recall_lg=recall_score(y_test, pred_lg, average=\"macro\")\n",
        "precision_lg=precision_score(y_test,pred_lg, average = \"macro\")\n",
        "F1_lg = 2 * (precision_lg * recall_lg) / (precision_lg)\n",
        "print(accuracy_lg*100)\n",
        "print(recall_lg*100)\n",
        "print(precision_lg*100)\n",
        "print(F1_lg*100)\n",
        "\n",
        "\n"
      ],
      "execution_count": 30,
      "outputs": [
        {
          "output_type": "error",
          "ename": "NameError",
          "evalue": "ignored",
          "traceback": [
            "\u001b[0;31m---------------------------------------------------------------------------\u001b[0m",
            "\u001b[0;31mNameError\u001b[0m                                 Traceback (most recent call last)",
            "\u001b[0;32m<ipython-input-30-0e5717b8eee0>\u001b[0m in \u001b[0;36m<module>\u001b[0;34m()\u001b[0m\n\u001b[1;32m      8\u001b[0m \u001b[0;32mfrom\u001b[0m \u001b[0msklearn\u001b[0m\u001b[0;34m.\u001b[0m\u001b[0mmetrics\u001b[0m \u001b[0;32mimport\u001b[0m \u001b[0mrecall_score\u001b[0m\u001b[0;34m\u001b[0m\u001b[0;34m\u001b[0m\u001b[0m\n\u001b[1;32m      9\u001b[0m \u001b[0;32mfrom\u001b[0m \u001b[0msklearn\u001b[0m\u001b[0;34m.\u001b[0m\u001b[0mmetrics\u001b[0m \u001b[0;32mimport\u001b[0m \u001b[0mprecision_score\u001b[0m\u001b[0;34m\u001b[0m\u001b[0;34m\u001b[0m\u001b[0m\n\u001b[0;32m---> 10\u001b[0;31m \u001b[0mmodel2\u001b[0m \u001b[0;34m=\u001b[0m \u001b[0mLogisticRegression\u001b[0m\u001b[0;34m(\u001b[0m\u001b[0;34m)\u001b[0m\u001b[0;34m.\u001b[0m\u001b[0mfit\u001b[0m\u001b[0;34m(\u001b[0m\u001b[0mx_train\u001b[0m\u001b[0;34m,\u001b[0m\u001b[0my_train\u001b[0m\u001b[0;34m)\u001b[0m \u001b[0;31m# the ravel method was found on stackov\u001b[0m\u001b[0;34m\u001b[0m\u001b[0;34m\u001b[0m\u001b[0m\n\u001b[0m\u001b[1;32m     11\u001b[0m \u001b[0mpred_lg\u001b[0m\u001b[0;34m=\u001b[0m\u001b[0mmodel2\u001b[0m\u001b[0;34m.\u001b[0m\u001b[0mpredict\u001b[0m\u001b[0;34m(\u001b[0m\u001b[0mx_test\u001b[0m\u001b[0;34m)\u001b[0m\u001b[0;34m\u001b[0m\u001b[0;34m\u001b[0m\u001b[0m\n\u001b[1;32m     12\u001b[0m \u001b[0mpred_lg\u001b[0m\u001b[0;34m[\u001b[0m\u001b[0mpred_lg\u001b[0m \u001b[0;34m>\u001b[0m \u001b[0;36m0.5\u001b[0m\u001b[0;34m]\u001b[0m \u001b[0;34m=\u001b[0m \u001b[0;36m1\u001b[0m \u001b[0;31m#changing pred table for probabilities to binary output to match the current problem pred_lg[pred_lg <= 0.5] = 0\u001b[0m\u001b[0;34m\u001b[0m\u001b[0;34m\u001b[0m\u001b[0m\n",
            "\u001b[0;31mNameError\u001b[0m: name 'LogisticRegression' is not defined"
          ]
        }
      ]
    },
    {
      "cell_type": "code",
      "metadata": {
        "id": "vnbqtCCJ3se_"
      },
      "source": [
        ""
      ],
      "execution_count": null,
      "outputs": []
    },
    {
      "cell_type": "code",
      "metadata": {
        "id": "xgsH4VrnoSKE"
      },
      "source": [
        "from sklearn.linear_model import LinearRegression\n",
        "reg = LinearRegression().fit(x_train, y_train)\n",
        "y_pred = reg.predict(x_test)  \n",
        "plt.scatter(y_test, x_test.iloc[:,0].values)\n",
        "plt.plot(y_test, y_pred, color='pink')\n",
        "plt.show()"
      ],
      "execution_count": null,
      "outputs": []
    },
    {
      "cell_type": "code",
      "metadata": {
        "id": "flubKBUiCMN7"
      },
      "source": [
        "# from sklearn.metrics import mean_absolute_error\n",
        "# from sklearn.metrics import mean_squared_error, r2_score\n",
        "# # scores = []\n",
        "# model = LinearRegression()\n",
        "# model.fit(x_train,y_train)\n",
        "# # kfold = KFold(n_splits=3, shuffle=True, random_state=42)\n",
        "# # for i, (train, test) in enumerate(kfold.split(x, y)):\n",
        "# model.fit(x.iloc[train,:], y.iloc[train,:])\n",
        "# y_pred = model.predict(x_test)\n",
        "# #  score = model.score(x.iloc[test,:], y.iloc[test,:])\n",
        "# #  scores.append(score)\n",
        "# print('Coefficients: \\n', model.coef_)\n",
        "# # The mean squared error\n",
        "# print('Mean squared error: %.2f'\n",
        "#       % mean_squared_error(y_test, y_pred))\n",
        "# # The coefficient of determination: 1 is perfect prediction\n",
        "# print('Coefficient of determination: %.2f'\n",
        "#       % r2_score(y_test, y_pred))\n",
        "\n",
        "# plt.scatter(x_test, y_test,  color='black')\n",
        "# plt.plot(x_test, y_pred, color='blue', linewidth=3)\n",
        "\n",
        "# plt.xticks(())\n",
        "# plt.yticks(())\n",
        "\n",
        "# plt.show()\n"
      ],
      "execution_count": null,
      "outputs": []
    },
    {
      "cell_type": "code",
      "metadata": {
        "id": "A76sINwaIM2e"
      },
      "source": [
        "# from sklearn.tree import DecisionTreeRegressor\n",
        "# dtree = DecisionTreeRegressor()\n",
        "# dtree.fit(x_train,y_train)\n",
        "# predictions = dtree.predict(x_test)\n",
        "# from sklearn.metrics import classification_report, confusion_matrix\n",
        "# print(confusion_matrix(y_test,predictions))\n",
        "# print('\\n')\n",
        "# print(classification_report(y_test,predictions))"
      ],
      "execution_count": null,
      "outputs": []
    },
    {
      "cell_type": "code",
      "metadata": {
        "id": "SqiH3d9uncjM"
      },
      "source": [
        "X, Y= df1.iloc[:,6:13] ,df1.iloc[:,4:5]\n",
        "X_train, X_test, Y_train, Y_test = train_test_split(X, Y, train_size=0.9, random_state=None)"
      ],
      "execution_count": null,
      "outputs": []
    },
    {
      "cell_type": "code",
      "metadata": {
        "id": "4ZsXonfFnt9l"
      },
      "source": [
        "# reg = LinearRegression().fit(X_train, Y_train)"
      ],
      "execution_count": null,
      "outputs": []
    }
  ]
}