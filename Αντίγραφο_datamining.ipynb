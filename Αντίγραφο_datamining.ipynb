{
  "nbformat": 4,
  "nbformat_minor": 0,
  "metadata": {
    "colab": {
      "name": "Αντίγραφο datamining.ipynb",
      "provenance": [],
      "collapsed_sections": [],
      "include_colab_link": true
    },
    "kernelspec": {
      "name": "python3",
      "display_name": "Python 3"
    }
  },
  "cells": [
    {
      "cell_type": "markdown",
      "metadata": {
        "id": "view-in-github",
        "colab_type": "text"
      },
      "source": [
        "<a href=\"https://colab.research.google.com/github/MyrtooS/datamining/blob/main/%CE%91%CE%BD%CF%84%CE%AF%CE%B3%CF%81%CE%B1%CF%86%CE%BF_datamining.ipynb\" target=\"_parent\"><img src=\"https://colab.research.google.com/assets/colab-badge.svg\" alt=\"Open In Colab\"/></a>"
      ]
    },
    {
      "cell_type": "code",
      "metadata": {
        "id": "L4lIkKCcL9L_"
      },
      "source": [
        "import numpy as np\n",
        "import pandas as pd\n",
        "import matplotlib.pyplot as plt\n",
        "from sklearn.preprocessing import LabelBinarizer\n",
        "from sklearn import datasets\n",
        "from sklearn import preprocessing\n",
        "from scipy.stats import pearsonr\n",
        "\n",
        "#from google.colab import files\n",
        "#uploaded = files.upload()"
      ],
      "execution_count": 1,
      "outputs": []
    },
    {
      "cell_type": "code",
      "metadata": {
        "id": "tDXdxOj-pz8B",
        "colab": {
          "base_uri": "https://localhost:8080/"
        },
        "outputId": "f2139e2d-6701-4cba-e19e-94ac1ee8ac81"
      },
      "source": [
        "from google.colab import drive\n",
        "drive.mount('/content/drive')\n",
        "folder='/content/drive/My Drive/Data_Mining'\n",
        "!ls '/content/drive/My Drive/Data_Mining'"
      ],
      "execution_count": 2,
      "outputs": [
        {
          "output_type": "stream",
          "text": [
            "Mounted at /content/drive\n",
            " datamining.ipynb\t     listings_july.csv\n",
            "'listings (1).gsheet'\t     listings_july.gsheet\n",
            "'listings (2).gsheet'\t     listings_june.csv\n",
            "'listings_july (1).gsheet'  'Untitled spreadsheet.gsheet'\n"
          ],
          "name": "stdout"
        }
      ]
    },
    {
      "cell_type": "code",
      "metadata": {
        "id": "642yUlK4rSHW"
      },
      "source": [
        "df = pd.read_csv(folder+'/listings_june.csv')\n",
        "df1 = pd.read_csv(folder+'/listings_july.csv')"
      ],
      "execution_count": 3,
      "outputs": []
    },
    {
      "cell_type": "code",
      "metadata": {
        "id": "u03_1jS5UFbS"
      },
      "source": [
        "to_drop = ['host_name','host_id','name','id','neighbourhood_group','last_review']"
      ],
      "execution_count": 4,
      "outputs": []
    },
    {
      "cell_type": "code",
      "metadata": {
        "id": "1wvXt94tW8zv"
      },
      "source": [
        "df.drop(to_drop, inplace=True, axis=1)\n"
      ],
      "execution_count": 5,
      "outputs": []
    },
    {
      "cell_type": "code",
      "metadata": {
        "id": "JaWKZTGbdXhD"
      },
      "source": [
        "df1.drop(to_drop, inplace=True, axis=1)"
      ],
      "execution_count": 6,
      "outputs": []
    },
    {
      "cell_type": "code",
      "metadata": {
        "id": "w1hHctEiD-ad"
      },
      "source": [
        "#converts categorical \"room_type\" to nominal values 0,1,2,3\n",
        "from sklearn.preprocessing import LabelEncoder\n",
        "gle = LabelEncoder()\n",
        "room_labels = gle.fit_transform(df['room_type'])\n",
        "room_mappings = {index: label for index, label in \n",
        "                  enumerate(gle.classes_)}\n",
        "room_mappings\n",
        "df['Room_Type_Label'] = room_labels\n"
      ],
      "execution_count": 7,
      "outputs": []
    },
    {
      "cell_type": "code",
      "metadata": {
        "id": "2EjZlEbjdiCC"
      },
      "source": [
        "room_labels = gle.fit_transform(df1['room_type'])\n",
        "room_mappings = {index: label for index, label in \n",
        "                  enumerate(gle.classes_)}\n",
        "room_mappings\n",
        "df1['Room_Type_Label'] = room_labels"
      ],
      "execution_count": 8,
      "outputs": []
    },
    {
      "cell_type": "code",
      "metadata": {
        "id": "iLXpjv1gFdlN",
        "colab": {
          "base_uri": "https://localhost:8080/"
        },
        "outputId": "b1f69037-e4c4-4ee6-c986-a1ca78d6201a"
      },
      "source": [
        "for col in df.columns: #how many % has empty values\n",
        "    pct_missing = np.mean(df[col].isnull())\n",
        "    print('{} - {}%'.format(col, round(pct_missing*100)))"
      ],
      "execution_count": 9,
      "outputs": [
        {
          "output_type": "stream",
          "text": [
            "neighbourhood - 0%\n",
            "latitude - 0%\n",
            "longitude - 0%\n",
            "room_type - 0%\n",
            "price - 0%\n",
            "minimum_nights - 0%\n",
            "number_of_reviews - 0%\n",
            "reviews_per_month - 24%\n",
            "calculated_host_listings_count - 0%\n",
            "availability_365 - 0%\n",
            "Room_Type_Label - 0%\n"
          ],
          "name": "stdout"
        }
      ]
    },
    {
      "cell_type": "code",
      "metadata": {
        "id": "bxPRtAVbY-Ty"
      },
      "source": [
        "mean_review = int(df['reviews_per_month'].mean())\n",
        "mean_review\n",
        "df['reviews_per_month'] = df['reviews_per_month'].fillna(mean_review)"
      ],
      "execution_count": 10,
      "outputs": []
    },
    {
      "cell_type": "code",
      "metadata": {
        "id": "UeYWB5GCdr2F"
      },
      "source": [
        "df1['reviews_per_month'] = df1['reviews_per_month'].fillna(mean_review)"
      ],
      "execution_count": 11,
      "outputs": []
    },
    {
      "cell_type": "code",
      "metadata": {
        "id": "gObSThYsQSWt"
      },
      "source": [
        "df['cost_per_stay'] = df['price'] * df['minimum_nights'] #extra value how much it costs to stay\n",
        "# df.to_csv('listings.csv') \n"
      ],
      "execution_count": 12,
      "outputs": []
    },
    {
      "cell_type": "code",
      "metadata": {
        "id": "52VLW1AZdu_H"
      },
      "source": [
        "df1['cost_per_stay'] = df1['price'] * df1['minimum_nights'] #extra value how much it costs to stay\n",
        "# df1.to_csv('listings2.csv') "
      ],
      "execution_count": 13,
      "outputs": []
    },
    {
      "cell_type": "code",
      "metadata": {
        "id": "i5ynIDdKN8DI"
      },
      "source": [
        "#one-hot encoding for room type\n",
        "# y= LabelBinarizer().fit_transform(df.room_type)\n",
        "# y = pd.DataFrame({'Entire home/apt': y[:, 0], 'Hotel room': y[0, 1], 'Private room': y[1, 2], 'Shared room': y[2,3]})\n",
        "# pd.concat([df, y], axis=1)"
      ],
      "execution_count": 14,
      "outputs": []
    },
    {
      "cell_type": "code",
      "metadata": {
        "id": "E7fm8z9UeARe"
      },
      "source": [
        "y= LabelBinarizer().fit_transform(df1.room_type)\n",
        "y = pd.DataFrame({'Entire home/apt': y[:, 0], 'Hotel room': y[0, 1], 'Private room': y[1, 2], 'Shared room': y[2,3]})\n",
        "pd.concat([df1, y], axis=1)"
      ],
      "execution_count": null,
      "outputs": []
    },
    {
      "cell_type": "code",
      "metadata": {
        "id": "ktOkOHbsQ39_"
      },
      "source": [
        "fig, ax = plt.subplots(figsize=(16,8))\n",
        "ax.scatter(df['minimum_nights'], df['neighbourhood'])\n",
        "ax.set_xlabel('minimum nights')\n",
        "ax.set_ylabel('price')\n",
        "plt.show()"
      ],
      "execution_count": null,
      "outputs": []
    },
    {
      "cell_type": "code",
      "metadata": {
        "id": "YrrvguIHVrOK",
        "colab": {
          "base_uri": "https://localhost:8080/"
        },
        "outputId": "4995aa0b-3fda-4f0d-f4e4-c0642ee5d455"
      },
      "source": [
        "df['minimum_nights'].mean()"
      ],
      "execution_count": 17,
      "outputs": [
        {
          "output_type": "execute_result",
          "data": {
            "text/plain": [
              "4.255082199045431"
            ]
          },
          "metadata": {
            "tags": []
          },
          "execution_count": 17
        }
      ]
    },
    {
      "cell_type": "code",
      "metadata": {
        "id": "SGk9JC0d2dnY"
      },
      "source": [
        "df.describe()"
      ],
      "execution_count": null,
      "outputs": []
    },
    {
      "cell_type": "code",
      "metadata": {
        "id": "-cIHPNhv4qu8",
        "colab": {
          "base_uri": "https://localhost:8080/"
        },
        "outputId": "05f3eae0-1383-45fb-fe9f-4fab7e8ed586"
      },
      "source": [
        "#minimum nights has some outlier values so we removed values that were higher than 10\n",
        "#we used IQR method to find out which columns have the most outlier values \n",
        "Q1 = df.quantile(0.25)\n",
        "Q3 = df.quantile(0.75)\n",
        "IQR = Q3 - Q1\n",
        "print(IQR)\n",
        "df = df[df['minimum_nights'] <= 10]"
      ],
      "execution_count": 19,
      "outputs": [
        {
          "output_type": "stream",
          "text": [
            "latitude                            0.019678\n",
            "longitude                           0.014590\n",
            "price                              37.000000\n",
            "minimum_nights                      1.000000\n",
            "number_of_reviews                  41.000000\n",
            "reviews_per_month                   1.380000\n",
            "calculated_host_listings_count      6.000000\n",
            "availability_365                  236.750000\n",
            "Room_Type_Label                     0.000000\n",
            "cost_per_stay                      88.000000\n",
            "dtype: float64\n"
          ],
          "name": "stdout"
        }
      ]
    },
    {
      "cell_type": "code",
      "metadata": {
        "id": "GifbQIpgeHBK",
        "colab": {
          "base_uri": "https://localhost:8080/"
        },
        "outputId": "bbefc821-8dd5-4cee-a094-723f1f7cd0b7"
      },
      "source": [
        "Q1 = df1.quantile(0.25)\n",
        "Q3 = df1.quantile(0.75)\n",
        "IQR = Q3 - Q1\n",
        "print(IQR)\n",
        "df1 = df1[df1['minimum_nights'] <= 10]"
      ],
      "execution_count": 20,
      "outputs": [
        {
          "output_type": "stream",
          "text": [
            "latitude                            0.019678\n",
            "longitude                           0.014465\n",
            "price                              38.000000\n",
            "minimum_nights                      1.000000\n",
            "number_of_reviews                  41.000000\n",
            "reviews_per_month                   1.310000\n",
            "calculated_host_listings_count      6.000000\n",
            "availability_365                  223.000000\n",
            "Room_Type_Label                     0.000000\n",
            "cost_per_stay                      88.000000\n",
            "dtype: float64\n"
          ],
          "name": "stdout"
        }
      ]
    },
    {
      "cell_type": "code",
      "metadata": {
        "id": "5F998Y61_vbL"
      },
      "source": [
        "df1.corr(method ='pearson') "
      ],
      "execution_count": null,
      "outputs": []
    },
    {
      "cell_type": "code",
      "metadata": {
        "id": "TkEirT_q6dsI"
      },
      "source": [
        "df['location_price_category']=0"
      ],
      "execution_count": 22,
      "outputs": []
    },
    {
      "cell_type": "code",
      "metadata": {
        "id": "txRFP6kGz-Xk"
      },
      "source": [
        "df['location_price_category'] = np.where(df['neighbourhood'] == 'ΑΜΠΕΛΟΚΗΠΟΙ', 4,df['location_price_category'])\n",
        "df['location_price_category'] = np.where(df['neighbourhood'] == 'ΕΜΠΟΡΙΚΟ ΤΡΙΓΩΝΟ-ΠΛΑΚΑ',4,df['location_price_category'])\n",
        "df['location_price_category'] = np.where(df['neighbourhood'] == 'ΚΕΡΑΜΕΙΚΟΣ', 6,df['location_price_category'])\n",
        "df['location_price_category'] = np.where(df['neighbourhood'] == 'ΑΓΙΟΣ ΝΙΚΟΛΑΟΣ',5,df['location_price_category'])\n",
        "df['location_price_category'] = np.where(df['neighbourhood'] == 'ΠΑΓΚΡΑΤΙ',4,df['location_price_category'])\n",
        "df['location_price_category'] = np.where(df['neighbourhood'] == 'ΠΛΑΤΕΙΑ ΑΤΤΙΚΗΣ', 5,df['location_price_category'])\n",
        "df['location_price_category'] = np.where(df['neighbourhood'] == 'ΣΤΑΔΙΟ', 3,df['location_price_category'])\n",
        "df['location_price_category'] = np.where(df['neighbourhood'] == 'ΑΓΙΟΣ ΚΩΝΣΤΑΝΤΙΝΟΣ-ΠΛΑΤΕΙΑ ΒΑΘΗΣ', 5,df['location_price_category'])\n",
        "df['location_price_category'] = np.where(df['neighbourhood'] == '1Ο ΝΕΚΡΟΤΑΦΕΙΟ', 4,df['location_price_category'])\n",
        "df['location_price_category'] = np.where(df['neighbourhood'] == 'ΜΟΥΣΕΙΟ-ΕΞΑΡΧΕΙΑ-ΝΕΑΠΟΛΗ', 3,df['location_price_category'])\n",
        "df['location_price_category'] = np.where(df['neighbourhood'] == 'ΑΚΑΔΗΜΙΑ ΠΛΑΤΩΝΟΣ', 7,df['location_price_category'])\n",
        "df['location_price_category'] = np.where(df['neighbourhood'] == 'ΚΟΥΚΑΚΙ-ΜΑΚΡΥΓΙΑΝΝΗ', 4,df['location_price_category'])\n",
        "df['location_price_category'] = np.where(df['neighbourhood'] == 'ΓΟΥΒΑ', 4,df['location_price_category'])\n",
        "df['location_price_category'] = np.where(df['neighbourhood'] == 'ΝΕΑ ΚΥΨΕΛΗ', 4,df['location_price_category'])\n",
        "df['location_price_category'] = np.where(df['neighbourhood'] == 'ΚΟΛΩΝΑΚΙ', 1,df['location_price_category'])\n",
        "df['location_price_category'] = np.where(df['neighbourhood'] == 'ΑΝΩ ΚΥΨΕΛΗ', 4,df['location_price_category'])\n",
        "df['location_price_category'] = np.where(df['neighbourhood'] == 'ΒΟΤΑΝΙΚΟΣ', 7,df['location_price_category'])\n",
        "df['location_price_category'] = np.where(df['neighbourhood'] == 'ΑΝΩ ΠΑΤΗΣΙΑ', 4,df['location_price_category'])\n",
        "df['location_price_category'] = np.where(df['neighbourhood'] == 'ΝΕΟΣ ΚΟΣΜΟΣ', 5,df['location_price_category'])\n",
        "df['location_price_category'] = np.where(df['neighbourhood'] == 'ΠΛΑΤΕΙΑ ΑΜΕΡΙΚΗΣ', 5,df['location_price_category'])\n",
        "df['location_price_category'] = np.where(df['neighbourhood'] == 'ΙΛΙΣΙΑ', 4,df['location_price_category'])\n",
        "df['location_price_category'] = np.where(df['neighbourhood'] == 'ΘΗΣΕΙΟ', 2,df['location_price_category'])\n",
        "df['location_price_category'] = np.where(df['neighbourhood'] == 'ΠΕΔΙΟ ΑΡΕΩΣ', 3,df['location_price_category'])\n",
        "df['location_price_category'] = np.where(df['neighbourhood'] == 'ΠΕΤΡΑΛΩΝΑ', 5,df['location_price_category'])\n",
        "df['location_price_category'] = np.where(df['neighbourhood'] == 'ΑΚΡΟΠΟΛΗ', 2,df['location_price_category'])\n",
        "df['location_price_category'] = np.where(df['neighbourhood'] == 'ΓΚΥΖΗ', 4,df['location_price_category'])\n",
        "df['location_price_category'] = np.where(df['neighbourhood'] == 'ΠΡΟΜΠΟΝΑ', 7,df['location_price_category'])\n",
        "df['location_price_category'] = np.where(df['neighbourhood'] == 'ΓΟΥΔΙ', 4,df['location_price_category'])\n",
        "df['location_price_category'] = np.where(df['neighbourhood'] == 'ΓΚΑΖΙ', 6,df['location_price_category'])\n",
        "df['location_price_category'] = np.where(df['neighbourhood'] == 'ΚΟΛΩΝΟΣ', 7,df['location_price_category'])\n",
        "df['location_price_category'] = np.where(df['neighbourhood'] == 'ΝΙΡΒΑΝΑ', 6,df['location_price_category'])\n",
        "df['location_price_category'] = np.where(df['neighbourhood'] == 'ΖΑΠΠΕΙΟ', 2,df['location_price_category'])\n",
        "df['location_price_category'] = np.where(df['neighbourhood'] == 'ΚΥΨΕΛΗ', 4,df['location_price_category'])\n",
        "df['location_price_category'] = np.where(df['neighbourhood'] == 'ΛΥΚΑΒΗΤΤΟΣ', 1,df['location_price_category'])\n",
        "df['location_price_category'] = np.where(df['neighbourhood'] == 'ΑΓΙΟΣ ΕΛΕΥΘΕΡΙΟΣ', 5,df['location_price_category'])\n",
        "df['location_price_category'] = np.where(df['neighbourhood'] == 'ΠΑΤΗΣΙΑ', 4,df['location_price_category'])\n",
        "df['location_price_category'] = np.where(df['neighbourhood'] == 'ΕΛΛΗΝΟΡΩΣΩΝ', 3,df['location_price_category'])\n",
        "df['location_price_category'] = np.where(df['neighbourhood'] == 'ΠΕΝΤΑΓΩΝΟ', 2,df['location_price_category'])\n",
        "df['location_price_category'] = np.where(df['neighbourhood'] == 'ΡΙΖΟΥΠΟΛΗ', 5,df['location_price_category'])\n",
        "df['location_price_category'] = np.where(df['neighbourhood'] == 'ΠΟΛΥΓΩΝΟ', 4,df['location_price_category'])\n",
        "df['location_price_category'] = np.where(df['neighbourhood'] == 'ΣΕΠΟΛΙΑ', 7,df['location_price_category'])\n",
        "df['location_price_category'] = np.where(df['neighbourhood'] == 'ΣΤΑΘΜΟΣ ΛΑΡΙΣΗΣ', 5,df['location_price_category'])\n",
        "df['location_price_category'] = np.where(df['neighbourhood'] == 'ΡΙΓΗΛΛΗ', 1,df['location_price_category'])\n",
        "df['location_price_category'] = np.where(df['neighbourhood'] == 'ΚΟΛΟΚΥΝΘΟΥ', 7,df['location_price_category'])\n",
        "df['location_price_category'] = np.where(df['neighbourhood'] == 'ΡΟΥΦ', 7,df['location_price_category'])"
      ],
      "execution_count": 23,
      "outputs": []
    },
    {
      "cell_type": "code",
      "metadata": {
        "id": "NKxKw7bth_xc"
      },
      "source": [
        "df1['location_price_category']=0"
      ],
      "execution_count": 24,
      "outputs": []
    },
    {
      "cell_type": "code",
      "metadata": {
        "id": "8YJIEeCUhwkV"
      },
      "source": [
        "df1['location_price_category'] = np.where(df1['neighbourhood'] == 'ΑΜΠΕΛΟΚΗΠΟΙ', 4,df1['location_price_category'])\n",
        "df1['location_price_category'] = np.where(df1['neighbourhood'] == 'ΕΜΠΟΡΙΚΟ ΤΡΙΓΩΝΟ-ΠΛΑΚΑ',4,df1['location_price_category'])\n",
        "df1['location_price_category'] = np.where(df1['neighbourhood'] == 'ΚΕΡΑΜΕΙΚΟΣ', 6,df1['location_price_category'])\n",
        "df1['location_price_category'] = np.where(df1['neighbourhood'] == 'ΑΓΙΟΣ ΝΙΚΟΛΑΟΣ',5,df1['location_price_category'])\n",
        "df1['location_price_category'] = np.where(df1['neighbourhood'] == 'ΠΑΓΚΡΑΤΙ',4,df1['location_price_category'])\n",
        "df1['location_price_category'] = np.where(df1['neighbourhood'] == 'ΠΛΑΤΕΙΑ ΑΤΤΙΚΗΣ', 5,df1['location_price_category'])\n",
        "df1['location_price_category'] = np.where(df1['neighbourhood'] == 'ΣΤΑΔΙΟ', 3,df1['location_price_category'])\n",
        "df1['location_price_category'] = np.where(df1['neighbourhood'] == 'ΑΓΙΟΣ ΚΩΝΣΤΑΝΤΙΝΟΣ-ΠΛΑΤΕΙΑ ΒΑΘΗΣ', 5,df1['location_price_category'])\n",
        "df1['location_price_category'] = np.where(df1['neighbourhood'] == '1Ο ΝΕΚΡΟΤΑΦΕΙΟ', 4,df1['location_price_category'])\n",
        "df1['location_price_category'] = np.where(df1['neighbourhood'] == 'ΜΟΥΣΕΙΟ-ΕΞΑΡΧΕΙΑ-ΝΕΑΠΟΛΗ', 3,df1['location_price_category'])\n",
        "df1['location_price_category'] = np.where(df1['neighbourhood'] == 'ΑΚΑΔΗΜΙΑ ΠΛΑΤΩΝΟΣ', 7,df1['location_price_category'])\n",
        "df1['location_price_category'] = np.where(df1['neighbourhood'] == 'ΚΟΥΚΑΚΙ-ΜΑΚΡΥΓΙΑΝΝΗ', 4,df1['location_price_category'])\n",
        "df1['location_price_category'] = np.where(df1['neighbourhood'] == 'ΓΟΥΒΑ', 4,df1['location_price_category'])\n",
        "df1['location_price_category'] = np.where(df1['neighbourhood'] == 'ΝΕΑ ΚΥΨΕΛΗ', 4,df1['location_price_category'])\n",
        "df1['location_price_category'] = np.where(df1['neighbourhood'] == 'ΚΟΛΩΝΑΚΙ', 1,df1['location_price_category'])\n",
        "df1['location_price_category'] = np.where(df1['neighbourhood'] == 'ΑΝΩ ΚΥΨΕΛΗ', 4,df1['location_price_category'])\n",
        "df1['location_price_category'] = np.where(df1['neighbourhood'] == 'ΒΟΤΑΝΙΚΟΣ', 7,df1['location_price_category'])\n",
        "df1['location_price_category'] = np.where(df1['neighbourhood'] == 'ΑΝΩ ΠΑΤΗΣΙΑ', 4,df1['location_price_category'])\n",
        "df1['location_price_category'] = np.where(df1['neighbourhood'] == 'ΝΕΟΣ ΚΟΣΜΟΣ', 5,df1['location_price_category'])\n",
        "df1['location_price_category'] = np.where(df1['neighbourhood'] == 'ΠΛΑΤΕΙΑ ΑΜΕΡΙΚΗΣ', 5,df1['location_price_category'])\n",
        "df1['location_price_category'] = np.where(df1['neighbourhood'] == 'ΙΛΙΣΙΑ', 4,df1['location_price_category'])\n",
        "df1['location_price_category'] = np.where(df1['neighbourhood'] == 'ΘΗΣΕΙΟ', 2,df1['location_price_category'])\n",
        "df1['location_price_category'] = np.where(df1['neighbourhood'] == 'ΠΕΔΙΟ ΑΡΕΩΣ', 3,df1['location_price_category'])\n",
        "df1['location_price_category'] = np.where(df1['neighbourhood'] == 'ΠΕΤΡΑΛΩΝΑ', 5,df1['location_price_category'])\n",
        "df1['location_price_category'] = np.where(df1['neighbourhood'] == 'ΑΚΡΟΠΟΛΗ', 2,df1['location_price_category'])\n",
        "df1['location_price_category'] = np.where(df1['neighbourhood'] == 'ΓΚΥΖΗ', 4,df1['location_price_category'])\n",
        "df1['location_price_category'] = np.where(df1['neighbourhood'] == 'ΠΡΟΜΠΟΝΑ', 7,df1['location_price_category'])\n",
        "df1['location_price_category'] = np.where(df1['neighbourhood'] == 'ΓΟΥΔΙ', 4,df1['location_price_category'])\n",
        "df1['location_price_category'] = np.where(df1['neighbourhood'] == 'ΓΚΑΖΙ', 6,df1['location_price_category'])\n",
        "df1['location_price_category'] = np.where(df1['neighbourhood'] == 'ΚΟΛΩΝΟΣ', 7,df1['location_price_category'])\n",
        "df1['location_price_category'] = np.where(df1['neighbourhood'] == 'ΝΙΡΒΑΝΑ', 6,df1['location_price_category'])\n",
        "df1['location_price_category'] = np.where(df1['neighbourhood'] == 'ΖΑΠΠΕΙΟ', 2,df1['location_price_category'])\n",
        "df1['location_price_category'] = np.where(df1['neighbourhood'] == 'ΚΥΨΕΛΗ', 4,df1['location_price_category'])\n",
        "df1['location_price_category'] = np.where(df1['neighbourhood'] == 'ΛΥΚΑΒΗΤΤΟΣ', 1,df1['location_price_category'])\n",
        "df1['location_price_category'] = np.where(df1['neighbourhood'] == 'ΑΓΙΟΣ ΕΛΕΥΘΕΡΙΟΣ', 5,df1['location_price_category'])\n",
        "df1['location_price_category'] = np.where(df1['neighbourhood'] == 'ΠΑΤΗΣΙΑ', 4,df1['location_price_category'])\n",
        "df1['location_price_category'] = np.where(df1['neighbourhood'] == 'ΕΛΛΗΝΟΡΩΣΩΝ', 3,df1['location_price_category'])\n",
        "df1['location_price_category'] = np.where(df1['neighbourhood'] == 'ΠΕΝΤΑΓΩΝΟ', 2,df1['location_price_category'])\n",
        "df1['location_price_category'] = np.where(df1['neighbourhood'] == 'ΡΙΖΟΥΠΟΛΗ', 5,df1['location_price_category'])\n",
        "df1['location_price_category'] = np.where(df1['neighbourhood'] == 'ΠΟΛΥΓΩΝΟ', 4,df1['location_price_category'])\n",
        "df1['location_price_category'] = np.where(df1['neighbourhood'] == 'ΣΕΠΟΛΙΑ', 7,df1['location_price_category'])\n",
        "df1['location_price_category'] = np.where(df1['neighbourhood'] == 'ΣΤΑΘΜΟΣ ΛΑΡΙΣΗΣ', 5,df1['location_price_category'])\n",
        "df1['location_price_category'] = np.where(df1['neighbourhood'] == 'ΡΙΓΗΛΛΗ', 1,df1['location_price_category'])\n",
        "df1['location_price_category'] = np.where(df1['neighbourhood'] == 'ΚΟΛΟΚΥΝΘΟΥ', 7,df1['location_price_category'])\n",
        "df1['location_price_category'] = np.where(df1['neighbourhood'] == 'ΡΟΥΦ', 7,df1['location_price_category'])"
      ],
      "execution_count": 25,
      "outputs": []
    },
    {
      "cell_type": "code",
      "metadata": {
        "id": "uoH_reOS6jE2"
      },
      "source": [
        "df.corr(method ='pearson') "
      ],
      "execution_count": null,
      "outputs": []
    },
    {
      "cell_type": "code",
      "metadata": {
        "id": "rwZ6dV8Hbg2R"
      },
      "source": [
        "df1"
      ],
      "execution_count": null,
      "outputs": []
    },
    {
      "cell_type": "code",
      "metadata": {
        "id": "ozUSO-VycAqy"
      },
      "source": [
        "from sklearn.model_selection import train_test_split\n",
        "\n",
        "x = df[[\"number_of_reviews\",\"reviews_per_month\",\"calculated_host_listings_count\",\"availability_365\",\"Room_Type_Label\",\"cost_per_stay\",\"location_price_category\",\n",
        "        \"latitude\",\"longitude\"]]\n",
        "y = df[[\"price\"]]\n",
        "x_train, x_test, y_train, y_test = train_test_split(x, y, train_size=0.9, random_state=None)"
      ],
      "execution_count": 28,
      "outputs": []
    },
    {
      "cell_type": "code",
      "metadata": {
        "id": "kE3vXz-N4pe6"
      },
      "source": [
        "x_train"
      ],
      "execution_count": null,
      "outputs": []
    },
    {
      "cell_type": "code",
      "metadata": {
        "colab": {
          "base_uri": "https://localhost:8080/"
        },
        "id": "xgsH4VrnoSKE",
        "outputId": "a90dd24d-552a-4739-b5b1-ccd121a67561"
      },
      "source": [
        "#linear regression model for july data\n",
        "from sklearn.linear_model import LinearRegression\n",
        "from sklearn.metrics import r2_score\n",
        "from sklearn.metrics import mean_squared_error\n",
        "\n",
        "linear_reg_model = LinearRegression().fit(x_train, y_train)\n",
        "y_pred = linear_reg_model.predict(x_test)  \n",
        "\n",
        "print(\"intercept: \" ,linear_reg_model.intercept_)\n",
        "print(\"coefficceiance :\", linear_reg_model.coef_)\n",
        "\n",
        "print(\"r2_score: \",r2_score(y_test, y_pred))\n",
        "print(\"mean_squared_error: \" ,mean_squared_error(y_test,y_pred))\n",
        "# print(y_test)\n",
        "# print(y_pred)"
      ],
      "execution_count": 88,
      "outputs": [
        {
          "output_type": "stream",
          "text": [
            "LinearRegression(copy_X=True, fit_intercept=True, n_jobs=None, normalize=False)\n",
            "intercept:  [10210.61232047]\n",
            "coefficceiance : [[-5.73351301e-02  4.82844244e+00  2.06729673e-01  2.45691668e-02\n",
            "   1.38129890e+01  6.86535654e-01  1.40521818e+00 -1.85931533e+02\n",
            "  -1.34120667e+02]]\n",
            "r2_score:  0.5330580372914937\n",
            "mean_squared_error:  2729.9395816786628\n"
          ],
          "name": "stdout"
        }
      ]
    },
    {
      "cell_type": "code",
      "metadata": {
        "colab": {
          "base_uri": "https://localhost:8080/"
        },
        "id": "flubKBUiCMN7",
        "outputId": "60dcb87b-a424-4df3-9c2f-83244b53eaf2"
      },
      "source": [
        "#decision tree regression for july data\n",
        "from sklearn.tree import DecisionTreeRegressor\n",
        "\n",
        "d_tree_reg_model = DecisionTreeRegressor()\n",
        "d_tree_reg_model.fit(x_train,y_train)\n",
        "y_pred_tree = d_tree_reg_model.predict(x_test)\n",
        "print(y_test)\n",
        "print(y_pred_tree)\n",
        "\n",
        "print(\"mean squared error: \",mean_squared_error(y_test,y_pred_tree))\n",
        "print(\"r2_score:\" ,r2_score(y_test,y_pred_tree))\n"
      ],
      "execution_count": 108,
      "outputs": [
        {
          "output_type": "stream",
          "text": [
            "       price\n",
            "756       46\n",
            "3304      34\n",
            "2908      39\n",
            "2059      58\n",
            "8358     100\n",
            "...      ...\n",
            "3397     140\n",
            "5897      60\n",
            "6954      30\n",
            "10750     60\n",
            "7974      48\n",
            "\n",
            "[1097 rows x 1 columns]\n",
            "[44. 69. 27. ... 30. 52. 50.]\n",
            "mean squared error:  2595.982680036463\n",
            "r2_score: 0.5559706683954746\n"
          ],
          "name": "stdout"
        }
      ]
    },
    {
      "cell_type": "code",
      "metadata": {
        "colab": {
          "base_uri": "https://localhost:8080/"
        },
        "id": "VvdPl3uLsJaR",
        "outputId": "f09c0c15-9161-4d68-b00f-b7b1d71cd4a6"
      },
      "source": [
        "#random forest regression for july data\n",
        "from sklearn.ensemble import RandomForestRegressor\n",
        "\n",
        "random_forest_reg_model = RandomForestRegressor(n_estimators=500, oob_score=True, random_state=0)\n",
        "random_forest_reg_model.fit(x_train, y_train)\n",
        "y_pred_rf = random_forest_reg_model.predict(x_test)\n",
        "\n",
        "print(\"mean squared error: \",mean_squared_error(y_test,y_pred_rf))\n",
        "print(\"r2_score:\" ,r2_score(y_test,y_pred_rf))"
      ],
      "execution_count": 107,
      "outputs": [
        {
          "output_type": "stream",
          "text": [
            "/usr/local/lib/python3.6/dist-packages/ipykernel_launcher.py:5: DataConversionWarning: A column-vector y was passed when a 1d array was expected. Please change the shape of y to (n_samples,), for example using ravel().\n",
            "  \"\"\"\n"
          ],
          "name": "stderr"
        },
        {
          "output_type": "stream",
          "text": [
            "mean squared error:  1446.2923564229718\n",
            "r2_score: 0.7526192168900734\n"
          ],
          "name": "stdout"
        }
      ]
    },
    {
      "cell_type": "code",
      "metadata": {
        "colab": {
          "base_uri": "https://localhost:8080/"
        },
        "id": "UF2TY4m2tnMm",
        "outputId": "c66ae5e4-4f69-43fb-f083-4734380e5768"
      },
      "source": [
        "print(y_test)\n",
        "print(y_pred_rf)"
      ],
      "execution_count": 105,
      "outputs": [
        {
          "output_type": "stream",
          "text": [
            "       price\n",
            "756       46\n",
            "3304      34\n",
            "2908      39\n",
            "2059      58\n",
            "8358     100\n",
            "...      ...\n",
            "3397     140\n",
            "5897      60\n",
            "6954      30\n",
            "10750     60\n",
            "7974      48\n",
            "\n",
            "[1097 rows x 1 columns]\n",
            "[67.834 50.374 40.054 ... 29.97  71.006 43.646]\n"
          ],
          "name": "stdout"
        }
      ]
    },
    {
      "cell_type": "code",
      "metadata": {
        "id": "SqiH3d9uncjM"
      },
      "source": [
        "X, Y= df1.iloc[:,6:13] ,df1.iloc[:,4:5]\n",
        "X_train, X_test, Y_train, Y_test = train_test_split(X, Y, train_size=0.9, random_state=None)"
      ],
      "execution_count": 109,
      "outputs": []
    },
    {
      "cell_type": "code",
      "metadata": {
        "colab": {
          "base_uri": "https://localhost:8080/"
        },
        "id": "HvOS5qQhuZNy",
        "outputId": "f7ce32b0-4f11-42f9-e2fb-ed78aa43b612"
      },
      "source": [
        "#regression with svr for july data\n",
        "from sklearn.svm import SVR\n",
        "svr_model = SVR()\n",
        "svr_model.fit(x_train,y_train)\n",
        "y_pred_svr = svr_model.predict(x_test)\n",
        "\n",
        "print(\"mean squared error: \",mean_squared_error(y_test,y_pred_svr))\n",
        "print(\"r2_score:\" ,r2_score(y_test,y_pred_svr))"
      ],
      "execution_count": 114,
      "outputs": [
        {
          "output_type": "stream",
          "text": [
            "/usr/local/lib/python3.6/dist-packages/sklearn/utils/validation.py:760: DataConversionWarning: A column-vector y was passed when a 1d array was expected. Please change the shape of y to (n_samples, ), for example using ravel().\n",
            "  y = column_or_1d(y, warn=True)\n"
          ],
          "name": "stderr"
        }
      ]
    }
  ]
}